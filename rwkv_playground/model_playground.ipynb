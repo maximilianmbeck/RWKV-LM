{
 "cells": [
  {
   "cell_type": "code",
   "execution_count": 57,
   "metadata": {},
   "outputs": [],
   "source": [
    "# %load_ext autorelaod\n",
    "# %autoreload 2\n",
    "\n",
    "import sys\n",
    "sys.path.append('./../RWKV-v4neo/src')\n",
    "import torch \n",
    "from torch.utils import data\n",
    "from enwik8_dataset import EnWik8\n",
    "import json\n",
    "import argparse\n",
    "import os\n",
    "from torch import nn"
   ]
  },
  {
   "cell_type": "code",
   "execution_count": 25,
   "metadata": {},
   "outputs": [],
   "source": [
    "def load_json(path):\n",
    "    with open(path, 'r') as f:\n",
    "        return json.load(f)\n",
    "def set_environ(env_vars: dict):\n",
    "    for k, v in env_vars.items():\n",
    "        os.environ[k] = v"
   ]
  },
  {
   "cell_type": "code",
   "execution_count": 26,
   "metadata": {},
   "outputs": [],
   "source": [
    "data_path = '/system/user/beck/pwbeck/projects/rwkv/RWKV-LM/data/enwik8'\n",
    "args = load_json('./debug_args.json')\n",
    "args = argparse.Namespace(**args)\n",
    "env_vars = load_json('./debug_environ.json')\n",
    "set_environ(env_vars)"
   ]
  },
  {
   "cell_type": "code",
   "execution_count": 34,
   "metadata": {},
   "outputs": [],
   "source": [
    "batch_size = 12"
   ]
  },
  {
   "cell_type": "code",
   "execution_count": 49,
   "metadata": {},
   "outputs": [
    {
     "name": "stdout",
     "output_type": "stream",
     "text": [
      "Data has 99621832 tokens, 6064 vocab size.\n"
     ]
    }
   ],
   "source": [
    "dataset = EnWik8(datafile=data_path)\n",
    "dataloader = data.DataLoader(dataset, batch_size=batch_size, shuffle=False, num_workers=0, pin_memory=True, drop_last=True)\n",
    "args.vocab_size = dataset.vocab_size"
   ]
  },
  {
   "cell_type": "code",
   "execution_count": 39,
   "metadata": {},
   "outputs": [
    {
     "data": {
      "text/plain": [
       "(torch.Size([12, 512]), torch.Size([12, 512]))"
      ]
     },
     "execution_count": 39,
     "metadata": {},
     "output_type": "execute_result"
    }
   ],
   "source": [
    "batch = next(iter(dataloader))\n",
    "x, y = batch\n",
    "x.shape, y.shape"
   ]
  },
  {
   "cell_type": "code",
   "execution_count": 56,
   "metadata": {},
   "outputs": [],
   "source": [
    "from model import RWKV, Block, RWKV_ChannelMix, RWKV_TimeMix\n",
    "model = RWKV(args)"
   ]
  },
  {
   "cell_type": "code",
   "execution_count": 53,
   "metadata": {},
   "outputs": [],
   "source": [
    "output = model(x)"
   ]
  },
  {
   "cell_type": "code",
   "execution_count": 54,
   "metadata": {},
   "outputs": [
    {
     "data": {
      "text/plain": [
       "torch.Size([12, 512, 6064])"
      ]
     },
     "execution_count": 54,
     "metadata": {},
     "output_type": "execute_result"
    }
   ],
   "source": [
    "output.shape"
   ]
  },
  {
   "cell_type": "code",
   "execution_count": 55,
   "metadata": {},
   "outputs": [
    {
     "data": {
      "text/plain": [
       "0"
      ]
     },
     "execution_count": 55,
     "metadata": {},
     "output_type": "execute_result"
    }
   ],
   "source": [
    "args.head_qk"
   ]
  },
  {
   "cell_type": "code",
   "execution_count": 68,
   "metadata": {},
   "outputs": [],
   "source": [
    "zp = nn.ZeroPad2d((0, 0, 1, -1))"
   ]
  },
  {
   "cell_type": "code",
   "execution_count": 69,
   "metadata": {},
   "outputs": [
    {
     "data": {
      "text/plain": [
       "tensor([[[ 2.2994,  0.6164, -0.2690,  0.4272,  0.0744],\n",
       "         [-0.9279, -1.5175,  1.2302,  1.2907, -1.4773],\n",
       "         [ 0.1119,  2.7972,  0.2340, -0.5418,  0.3708],\n",
       "         [ 0.8383, -0.6947,  0.1652, -1.0719, -1.8091],\n",
       "         [ 0.1493, -0.9867,  0.2290,  1.0927, -0.1701],\n",
       "         [ 0.7025, -0.6657, -1.0994, -0.7444,  0.5355],\n",
       "         [-1.8331, -0.4958,  0.3811, -0.1416,  0.0564],\n",
       "         [-1.6845,  1.4969,  2.0742, -0.6748,  2.6469],\n",
       "         [ 1.3789,  0.0776,  1.1843,  0.2751,  1.3776],\n",
       "         [-1.4278, -0.5132, -0.4568, -0.7256, -0.4097]],\n",
       "\n",
       "        [[ 0.6982, -0.5857, -0.3218, -2.6634,  0.6578],\n",
       "         [ 0.5408, -0.4575,  0.2834,  1.1029,  0.1854],\n",
       "         [-0.6689,  1.0695, -2.1253, -0.5972,  0.2518],\n",
       "         [-1.8999, -0.2150, -1.3322,  1.5590, -0.9475],\n",
       "         [ 0.1050, -0.3192,  0.0122, -0.4665, -0.7289],\n",
       "         [ 1.3017, -1.0393, -1.3678, -0.2464, -0.7555],\n",
       "         [-1.3445,  1.5817, -0.5817,  0.5974, -0.0958],\n",
       "         [ 0.0687,  0.1729, -0.6784,  0.4652,  1.1562],\n",
       "         [-2.2238, -0.7868, -0.9994, -1.2369, -0.5488],\n",
       "         [-0.8859, -2.3978,  0.7936, -1.1874, -1.1258]]])"
      ]
     },
     "execution_count": 69,
     "metadata": {},
     "output_type": "execute_result"
    }
   ],
   "source": [
    "t = torch.randn(2, 10, 5)\n",
    "t"
   ]
  },
  {
   "cell_type": "code",
   "execution_count": 70,
   "metadata": {},
   "outputs": [
    {
     "data": {
      "text/plain": [
       "torch.Size([2, 10, 5])"
      ]
     },
     "execution_count": 70,
     "metadata": {},
     "output_type": "execute_result"
    }
   ],
   "source": [
    "zp(t).shape"
   ]
  },
  {
   "cell_type": "code",
   "execution_count": 71,
   "metadata": {},
   "outputs": [
    {
     "data": {
      "text/plain": [
       "tensor([[[ 0.0000,  0.0000,  0.0000,  0.0000,  0.0000],\n",
       "         [ 2.2994,  0.6164, -0.2690,  0.4272,  0.0744],\n",
       "         [-0.9279, -1.5175,  1.2302,  1.2907, -1.4773],\n",
       "         [ 0.1119,  2.7972,  0.2340, -0.5418,  0.3708],\n",
       "         [ 0.8383, -0.6947,  0.1652, -1.0719, -1.8091],\n",
       "         [ 0.1493, -0.9867,  0.2290,  1.0927, -0.1701],\n",
       "         [ 0.7025, -0.6657, -1.0994, -0.7444,  0.5355],\n",
       "         [-1.8331, -0.4958,  0.3811, -0.1416,  0.0564],\n",
       "         [-1.6845,  1.4969,  2.0742, -0.6748,  2.6469],\n",
       "         [ 1.3789,  0.0776,  1.1843,  0.2751,  1.3776]],\n",
       "\n",
       "        [[ 0.0000,  0.0000,  0.0000,  0.0000,  0.0000],\n",
       "         [ 0.6982, -0.5857, -0.3218, -2.6634,  0.6578],\n",
       "         [ 0.5408, -0.4575,  0.2834,  1.1029,  0.1854],\n",
       "         [-0.6689,  1.0695, -2.1253, -0.5972,  0.2518],\n",
       "         [-1.8999, -0.2150, -1.3322,  1.5590, -0.9475],\n",
       "         [ 0.1050, -0.3192,  0.0122, -0.4665, -0.7289],\n",
       "         [ 1.3017, -1.0393, -1.3678, -0.2464, -0.7555],\n",
       "         [-1.3445,  1.5817, -0.5817,  0.5974, -0.0958],\n",
       "         [ 0.0687,  0.1729, -0.6784,  0.4652,  1.1562],\n",
       "         [-2.2238, -0.7868, -0.9994, -1.2369, -0.5488]]])"
      ]
     },
     "execution_count": 71,
     "metadata": {},
     "output_type": "execute_result"
    }
   ],
   "source": [
    "zp(t)"
   ]
  },
  {
   "cell_type": "code",
   "execution_count": 74,
   "metadata": {},
   "outputs": [
    {
     "data": {
      "text/plain": [
       "tensor([ 2.2994,  0.6164, -0.2690,  0.4272,  0.0744])"
      ]
     },
     "execution_count": 74,
     "metadata": {},
     "output_type": "execute_result"
    }
   ],
   "source": [
    "zp(t)[0, 1, :]"
   ]
  },
  {
   "cell_type": "code",
   "execution_count": 73,
   "metadata": {},
   "outputs": [
    {
     "data": {
      "text/plain": [
       "tensor([ 2.2994,  0.6164, -0.2690,  0.4272,  0.0744])"
      ]
     },
     "execution_count": 73,
     "metadata": {},
     "output_type": "execute_result"
    }
   ],
   "source": [
    "t[0, 0, :]"
   ]
  },
  {
   "cell_type": "code",
   "execution_count": null,
   "metadata": {},
   "outputs": [],
   "source": []
  }
 ],
 "metadata": {
  "kernelspec": {
   "display_name": "rwkv",
   "language": "python",
   "name": "python3"
  },
  "language_info": {
   "codemirror_mode": {
    "name": "ipython",
    "version": 3
   },
   "file_extension": ".py",
   "mimetype": "text/x-python",
   "name": "python",
   "nbconvert_exporter": "python",
   "pygments_lexer": "ipython3",
   "version": "3.10.10"
  },
  "orig_nbformat": 4
 },
 "nbformat": 4,
 "nbformat_minor": 2
}
