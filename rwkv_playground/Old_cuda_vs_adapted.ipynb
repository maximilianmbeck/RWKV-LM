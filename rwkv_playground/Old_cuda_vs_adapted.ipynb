{
 "cells": [
  {
   "cell_type": "code",
   "execution_count": 1,
   "metadata": {},
   "outputs": [
    {
     "name": "stderr",
     "output_type": "stream",
     "text": [
      "/system/apps/userenv/beck/rwkv/lib/python3.10/site-packages/tqdm/auto.py:21: TqdmWarning: IProgress not found. Please update jupyter and ipywidgets. See https://ipywidgets.readthedocs.io/en/stable/user_install.html\n",
      "  from .autonotebook import tqdm as notebook_tqdm\n",
      "Using /system/user/beck/.cache/torch_extensions/py310_cu117 as PyTorch extensions root...\n",
      "Detected CUDA files, patching ldflags\n",
      "Emitting ninja build file /system/user/beck/.cache/torch_extensions/py310_cu117/wkv/build.ninja...\n",
      "Building extension module wkv...\n",
      "Allowing ninja to set a default number of workers... (overridable by setting the environment variable MAX_JOBS=N)\n"
     ]
    },
    {
     "name": "stdout",
     "output_type": "stream",
     "text": [
      "ninja: no work to do.\n"
     ]
    },
    {
     "name": "stderr",
     "output_type": "stream",
     "text": [
      "Loading extension module wkv...\n"
     ]
    }
   ],
   "source": [
    "%load_ext autoreload\n",
    "%autoreload 2\n",
    "import torch\n",
    "import json\n",
    "import os\n",
    "import argparse\n",
    "from rwkv_model import RUN_CUDA\n",
    "from wkv_kernel import WKV, WKVConfig"
   ]
  },
  {
   "cell_type": "code",
   "execution_count": 2,
   "metadata": {},
   "outputs": [],
   "source": [
    "def load_json(path):\n",
    "    with open(path, 'r') as f:\n",
    "        return json.load(f)\n",
    "def set_environ(env_vars: dict):\n",
    "    for k, v in env_vars.items():\n",
    "        os.environ[k] = v"
   ]
  },
  {
   "cell_type": "code",
   "execution_count": 3,
   "metadata": {},
   "outputs": [],
   "source": [
    "args = load_json('./debug_args.json')\n",
    "args = argparse.Namespace(**args)\n",
    "env_vars = load_json('./debug_environ.json')\n",
    "set_environ(env_vars)"
   ]
  },
  {
   "cell_type": "markdown",
   "metadata": {},
   "source": [
    "### Compare BlinkDL CUDA kernel with own embedded version"
   ]
  },
  {
   "cell_type": "code",
   "execution_count": 4,
   "metadata": {},
   "outputs": [],
   "source": [
    "# input tensors\n",
    "batch_size = 2\n",
    "seq_len = 5\n",
    "embedding_dim = 7\n",
    "attention_dim = 7\n",
    "time_decay = torch.randn((attention_dim,))\n",
    "time_first = torch.randn((attention_dim,))\n",
    "k = torch.randn((batch_size, seq_len, embedding_dim))\n",
    "v = torch.randn((batch_size, seq_len, embedding_dim))\n"
   ]
  },
  {
   "cell_type": "code",
   "execution_count": 5,
   "metadata": {},
   "outputs": [],
   "source": [
    "out_ground_truth = RUN_CUDA(batch_size, seq_len, embedding_dim, time_decay, time_first, k, v)"
   ]
  },
  {
   "cell_type": "code",
   "execution_count": 6,
   "metadata": {},
   "outputs": [
    {
     "data": {
      "text/plain": [
       "tensor([[[-0.4895, -0.3953, -0.5015, -0.1135,  1.5791,  0.3691,  0.4893],\n",
       "         [ 0.2627, -0.0813, -0.1442,  0.2314, -0.6914, -0.8613, -0.0439],\n",
       "         [ 1.3896, -0.0635,  0.6626, -0.4768, -0.5508,  0.2734, -1.8936],\n",
       "         [ 1.4307, -0.4177,  0.8262, -0.3821,  0.2301,  0.7666, -0.7812],\n",
       "         [ 0.8364, -0.5107,  0.6519,  0.1125, -1.4043, -1.3096,  1.2422]],\n",
       "\n",
       "        [[-0.8867, -0.5200,  1.7021, -1.0928, -2.6758,  0.1827, -0.3997],\n",
       "         [-1.7266, -0.5405,  0.5117, -0.9746, -1.5459, -1.2070,  0.6060],\n",
       "         [-1.6982, -0.3269,  0.2285,  0.6382, -0.2129, -1.1562,  1.2676],\n",
       "         [-1.1133,  0.3591,  0.2654,  0.5171,  0.0053,  0.0396,  0.8882],\n",
       "         [-0.5884,  0.2141,  0.4832,  0.4839,  0.8008,  0.0890,  0.4238]]],\n",
       "       device='cuda:0', dtype=torch.float16)"
      ]
     },
     "execution_count": 6,
     "metadata": {},
     "output_type": "execute_result"
    }
   ],
   "source": [
    "out_ground_truth"
   ]
  },
  {
   "cell_type": "code",
   "execution_count": 7,
   "metadata": {},
   "outputs": [
    {
     "name": "stderr",
     "output_type": "stream",
     "text": [
      "Using /system/user/beck/.cache/torch_extensions/py310_cu117 as PyTorch extensions root...\n",
      "No modifications detected for re-loaded extension module wkv, skipping build step...\n",
      "Loading extension module wkv...\n"
     ]
    }
   ],
   "source": [
    "wkv = WKV(config=WKVConfig(float_mode='fp16'))"
   ]
  },
  {
   "cell_type": "code",
   "execution_count": 8,
   "metadata": {},
   "outputs": [],
   "source": [
    "out = wkv(batch_size, seq_len, embedding_dim, time_decay, time_first, k, v)"
   ]
  },
  {
   "cell_type": "code",
   "execution_count": 9,
   "metadata": {},
   "outputs": [
    {
     "data": {
      "text/plain": [
       "tensor([[[-0.4895, -0.3953, -0.5015, -0.1135,  1.5791,  0.3691,  0.4893],\n",
       "         [ 0.2627, -0.0813, -0.1442,  0.2314, -0.6914, -0.8613, -0.0439],\n",
       "         [ 1.3896, -0.0635,  0.6626, -0.4768, -0.5508,  0.2734, -1.8936],\n",
       "         [ 1.4307, -0.4177,  0.8262, -0.3821,  0.2301,  0.7666, -0.7812],\n",
       "         [ 0.8364, -0.5107,  0.6519,  0.1125, -1.4043, -1.3096,  1.2422]],\n",
       "\n",
       "        [[-0.8867, -0.5200,  1.7021, -1.0928, -2.6758,  0.1827, -0.3997],\n",
       "         [-1.7266, -0.5405,  0.5117, -0.9746, -1.5459, -1.2070,  0.6060],\n",
       "         [-1.6982, -0.3269,  0.2285,  0.6382, -0.2129, -1.1562,  1.2676],\n",
       "         [-1.1133,  0.3591,  0.2654,  0.5171,  0.0053,  0.0396,  0.8882],\n",
       "         [-0.5884,  0.2141,  0.4832,  0.4839,  0.8008,  0.0890,  0.4238]]],\n",
       "       device='cuda:0', dtype=torch.float16)"
      ]
     },
     "execution_count": 9,
     "metadata": {},
     "output_type": "execute_result"
    }
   ],
   "source": [
    "out"
   ]
  },
  {
   "cell_type": "code",
   "execution_count": null,
   "metadata": {},
   "outputs": [],
   "source": [
    "# the outputtensors are the same! -> NO BUG"
   ]
  }
 ],
 "metadata": {
  "kernelspec": {
   "display_name": "rwkv",
   "language": "python",
   "name": "python3"
  },
  "language_info": {
   "codemirror_mode": {
    "name": "ipython",
    "version": 3
   },
   "file_extension": ".py",
   "mimetype": "text/x-python",
   "name": "python",
   "nbconvert_exporter": "python",
   "pygments_lexer": "ipython3",
   "version": "3.10.10"
  },
  "orig_nbformat": 4
 },
 "nbformat": 4,
 "nbformat_minor": 2
}
