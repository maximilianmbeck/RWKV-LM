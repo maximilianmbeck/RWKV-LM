{
 "cells": [
  {
   "cell_type": "code",
   "execution_count": 2,
   "metadata": {},
   "outputs": [
    {
     "name": "stderr",
     "output_type": "stream",
     "text": [
      "/system/apps/userenv/beck/rwkv/lib/python3.10/site-packages/tqdm/auto.py:21: TqdmWarning: IProgress not found. Please update jupyter and ipywidgets. See https://ipywidgets.readthedocs.io/en/stable/user_install.html\n",
      "  from .autonotebook import tqdm as notebook_tqdm\n",
      "Using /system/user/beck/.cache/torch_extensions/py310_cu117 as PyTorch extensions root...\n",
      "Detected CUDA files, patching ldflags\n",
      "Emitting ninja build file /system/user/beck/.cache/torch_extensions/py310_cu117/wkv/build.ninja...\n",
      "Building extension module wkv...\n",
      "Allowing ninja to set a default number of workers... (overridable by setting the environment variable MAX_JOBS=N)\n"
     ]
    },
    {
     "name": "stdout",
     "output_type": "stream",
     "text": [
      "ninja: no work to do.\n"
     ]
    },
    {
     "name": "stderr",
     "output_type": "stream",
     "text": [
      "Loading extension module wkv...\n"
     ]
    }
   ],
   "source": [
    "%load_ext autoreload\n",
    "%autoreload 2\n",
    "import torch\n",
    "from torch import nn\n"
   ]
  },
  {
   "attachments": {},
   "cell_type": "markdown",
   "metadata": {},
   "source": [
    "## Understand single operations inside RWKV model"
   ]
  },
  {
   "attachments": {},
   "cell_type": "markdown",
   "metadata": {},
   "source": [
    "### Time shift operation"
   ]
  },
  {
   "cell_type": "code",
   "execution_count": null,
   "metadata": {},
   "outputs": [],
   "source": [
    "zp = nn.ZeroPad2d((0, 0, 1, -1))"
   ]
  },
  {
   "cell_type": "code",
   "execution_count": null,
   "metadata": {},
   "outputs": [
    {
     "data": {
      "text/plain": [
       "tensor([[[ 2.2994,  0.6164, -0.2690,  0.4272,  0.0744],\n",
       "         [-0.9279, -1.5175,  1.2302,  1.2907, -1.4773],\n",
       "         [ 0.1119,  2.7972,  0.2340, -0.5418,  0.3708],\n",
       "         [ 0.8383, -0.6947,  0.1652, -1.0719, -1.8091],\n",
       "         [ 0.1493, -0.9867,  0.2290,  1.0927, -0.1701],\n",
       "         [ 0.7025, -0.6657, -1.0994, -0.7444,  0.5355],\n",
       "         [-1.8331, -0.4958,  0.3811, -0.1416,  0.0564],\n",
       "         [-1.6845,  1.4969,  2.0742, -0.6748,  2.6469],\n",
       "         [ 1.3789,  0.0776,  1.1843,  0.2751,  1.3776],\n",
       "         [-1.4278, -0.5132, -0.4568, -0.7256, -0.4097]],\n",
       "\n",
       "        [[ 0.6982, -0.5857, -0.3218, -2.6634,  0.6578],\n",
       "         [ 0.5408, -0.4575,  0.2834,  1.1029,  0.1854],\n",
       "         [-0.6689,  1.0695, -2.1253, -0.5972,  0.2518],\n",
       "         [-1.8999, -0.2150, -1.3322,  1.5590, -0.9475],\n",
       "         [ 0.1050, -0.3192,  0.0122, -0.4665, -0.7289],\n",
       "         [ 1.3017, -1.0393, -1.3678, -0.2464, -0.7555],\n",
       "         [-1.3445,  1.5817, -0.5817,  0.5974, -0.0958],\n",
       "         [ 0.0687,  0.1729, -0.6784,  0.4652,  1.1562],\n",
       "         [-2.2238, -0.7868, -0.9994, -1.2369, -0.5488],\n",
       "         [-0.8859, -2.3978,  0.7936, -1.1874, -1.1258]]])"
      ]
     },
     "metadata": {},
     "output_type": "display_data"
    }
   ],
   "source": [
    "t = torch.randn(2, 10, 5)\n",
    "t"
   ]
  },
  {
   "cell_type": "code",
   "execution_count": null,
   "metadata": {},
   "outputs": [
    {
     "data": {
      "text/plain": [
       "torch.Size([2, 10, 5])"
      ]
     },
     "metadata": {},
     "output_type": "display_data"
    }
   ],
   "source": [
    "zp(t).shape"
   ]
  },
  {
   "cell_type": "code",
   "execution_count": null,
   "metadata": {},
   "outputs": [
    {
     "data": {
      "text/plain": [
       "tensor([[[ 0.0000,  0.0000,  0.0000,  0.0000,  0.0000],\n",
       "         [ 2.2994,  0.6164, -0.2690,  0.4272,  0.0744],\n",
       "         [-0.9279, -1.5175,  1.2302,  1.2907, -1.4773],\n",
       "         [ 0.1119,  2.7972,  0.2340, -0.5418,  0.3708],\n",
       "         [ 0.8383, -0.6947,  0.1652, -1.0719, -1.8091],\n",
       "         [ 0.1493, -0.9867,  0.2290,  1.0927, -0.1701],\n",
       "         [ 0.7025, -0.6657, -1.0994, -0.7444,  0.5355],\n",
       "         [-1.8331, -0.4958,  0.3811, -0.1416,  0.0564],\n",
       "         [-1.6845,  1.4969,  2.0742, -0.6748,  2.6469],\n",
       "         [ 1.3789,  0.0776,  1.1843,  0.2751,  1.3776]],\n",
       "\n",
       "        [[ 0.0000,  0.0000,  0.0000,  0.0000,  0.0000],\n",
       "         [ 0.6982, -0.5857, -0.3218, -2.6634,  0.6578],\n",
       "         [ 0.5408, -0.4575,  0.2834,  1.1029,  0.1854],\n",
       "         [-0.6689,  1.0695, -2.1253, -0.5972,  0.2518],\n",
       "         [-1.8999, -0.2150, -1.3322,  1.5590, -0.9475],\n",
       "         [ 0.1050, -0.3192,  0.0122, -0.4665, -0.7289],\n",
       "         [ 1.3017, -1.0393, -1.3678, -0.2464, -0.7555],\n",
       "         [-1.3445,  1.5817, -0.5817,  0.5974, -0.0958],\n",
       "         [ 0.0687,  0.1729, -0.6784,  0.4652,  1.1562],\n",
       "         [-2.2238, -0.7868, -0.9994, -1.2369, -0.5488]]])"
      ]
     },
     "metadata": {},
     "output_type": "display_data"
    }
   ],
   "source": [
    "zp(t)"
   ]
  },
  {
   "cell_type": "code",
   "execution_count": null,
   "metadata": {},
   "outputs": [
    {
     "data": {
      "text/plain": [
       "tensor([ 2.2994,  0.6164, -0.2690,  0.4272,  0.0744])"
      ]
     },
     "metadata": {},
     "output_type": "display_data"
    }
   ],
   "source": [
    "zp(t)[0, 1, :]"
   ]
  },
  {
   "cell_type": "code",
   "execution_count": null,
   "metadata": {},
   "outputs": [
    {
     "data": {
      "text/plain": [
       "tensor([ 2.2994,  0.6164, -0.2690,  0.4272,  0.0744])"
      ]
     },
     "metadata": {},
     "output_type": "display_data"
    }
   ],
   "source": [
    "t[0, 0, :]"
   ]
  },
  {
   "attachments": {},
   "cell_type": "markdown",
   "metadata": {},
   "source": [
    "### Init of time_first "
   ]
  },
  {
   "cell_type": "code",
   "execution_count": 3,
   "metadata": {},
   "outputs": [],
   "source": [
    "attention_dim = 10\n",
    "zigzag = torch.tensor([(i + 1) % 3 - 1\n",
    "                       for i in range(attention_dim)]) * 0.5"
   ]
  },
  {
   "cell_type": "code",
   "execution_count": 4,
   "metadata": {},
   "outputs": [
    {
     "data": {
      "text/plain": [
       "tensor([ 0.0000,  0.5000, -0.5000,  0.0000,  0.5000, -0.5000,  0.0000,  0.5000,\n",
       "        -0.5000,  0.0000])"
      ]
     },
     "execution_count": 4,
     "metadata": {},
     "output_type": "execute_result"
    }
   ],
   "source": [
    "zigzag"
   ]
  },
  {
   "cell_type": "code",
   "execution_count": null,
   "metadata": {},
   "outputs": [],
   "source": []
  }
 ],
 "metadata": {
  "kernelspec": {
   "display_name": "rwkv",
   "language": "python",
   "name": "python3"
  },
  "language_info": {
   "codemirror_mode": {
    "name": "ipython",
    "version": 3
   },
   "file_extension": ".py",
   "mimetype": "text/x-python",
   "name": "python",
   "nbconvert_exporter": "python",
   "pygments_lexer": "ipython3",
   "version": "3.10.10"
  },
  "orig_nbformat": 4
 },
 "nbformat": 4,
 "nbformat_minor": 2
}
