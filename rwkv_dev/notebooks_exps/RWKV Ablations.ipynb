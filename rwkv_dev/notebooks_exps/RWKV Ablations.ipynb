{
 "cells": [
  {
   "cell_type": "code",
   "execution_count": 4,
   "metadata": {},
   "outputs": [
    {
     "name": "stdout",
     "output_type": "stream",
     "text": [
      "The autoreload extension is already loaded. To reload it, use:\n",
      "  %reload_ext autoreload\n"
     ]
    }
   ],
   "source": [
    "%load_ext autoreload\n",
    "%autoreload 2\n",
    "import torch\n",
    "import numpy as np\n",
    "import pandas as pd\n",
    "from omegaconf import OmegaConf\n",
    "from pathlib import Path\n",
    "from pprint import pprint\n",
    "# plotting\n",
    "import matplotlib.pyplot as plt\n",
    "import matplotlib as mpl\n",
    "import seaborn as sns\n",
    "# mycode\n",
    "from repo import REPO\n",
    "import sys\n",
    "sys.path.append('..')\n",
    "from ml_utils.output_loader.result_loader import SweepResult, JobResult\n",
    "from ml_utils.output_loader import create_job_output_loader\n",
    "from ml_utils.output_loader.plot import plot_sweep_summary, plot_data_log_values"
   ]
  },
  {
   "attachments": {},
   "cell_type": "markdown",
   "metadata": {},
   "source": [
    "# Ablations on RWKV\n",
    "\n",
    "These experiments should answer the question: Apart from Time-Mixing (i.e. the wkv kernel), what are the other factors that contribute to the performance of the RWKV model?"
   ]
  },
  {
   "attachments": {},
   "cell_type": "markdown",
   "metadata": {},
   "source": [
    "### baseline seeds"
   ]
  },
  {
   "cell_type": "code",
   "execution_count": 7,
   "metadata": {},
   "outputs": [],
   "source": [
    "config_yaml = \"\"\"\n",
    "run_config:\n",
    "  exec_type: parallel\n",
    "  hostname: scorpion\n",
    "  gpu_ids: [0,1]\n",
    "  runs_per_gpu: 1\n",
    "  use_cuda_visible_devices: True\n",
    "  wandb:\n",
    "    init:\n",
    "      tags:\n",
    "      - ${config.experiment_data.experiment_tag}_exps\n",
    "      - run_handler\n",
    "      notes: null\n",
    "      group: ${config.experiment_data.experiment_tag}\n",
    "      job_type: run_handler\n",
    "\n",
    "seeds: [0,1,2,3,4]\n",
    "\n",
    "sweep:\n",
    "  type: skip\n",
    "  axes: \n",
    "  # - parameter: model.kwargs.num_blocks\n",
    "  #   vals: [2, 12]\n",
    "    \n",
    "start_num: 0\n",
    "config:\n",
    "  experiment_data:\n",
    "    entity: fslgroup\n",
    "    project_name: rwkv\n",
    "    experiment_tag: 'baseline'\n",
    "    experiment_type: seeds\n",
    "    experiment_name: vary_seeds\n",
    "    experiment_dir: null\n",
    "    experiment_notes: \n",
    "    seed: 0\n",
    "    gpu_id: 0\n",
    "   \n",
    "  model:\n",
    "    name: rwkv\n",
    "    kwargs:\n",
    "      embedding_dim: 512\n",
    "      attention_dim: 512\n",
    "      ffn_dim: 2048\n",
    "      num_blocks: 6\n",
    "      vocab_size: 6064 # will be set by data\n",
    "      context_len: 512\n",
    "      wkv_config: # set to null to use plain torch\n",
    "        T_max: 1024\n",
    "        float_mode: '16'\n",
    "        device: 'cuda:0'\n",
    "  \n",
    "  trainer:\n",
    "    n_epochs: 5 #default: 500\n",
    "    val_every: 5\n",
    "    save_every: 5 \n",
    "    batch_size: 12\n",
    "    optimizer:\n",
    "      name: Adam\n",
    "      kwargs:\n",
    "        lr: 0.0008\n",
    "\n",
    "  data:\n",
    "    name: enwik8 \n",
    "    kwargs: \n",
    "      batch_size: 12\n",
    "      datafile: '/system/user/beck/pwbeck/projects/rwkv/RWKV-LM/data/enwik8'\n",
    "      context_length: 512\n",
    "\"\"\"\n",
    "cfg = OmegaConf.create(config_yaml)"
   ]
  },
  {
   "cell_type": "code",
   "execution_count": 8,
   "metadata": {},
   "outputs": [
    {
     "name": "stdout",
     "output_type": "stream",
     "text": [
      "python run_sweep.py --config-name vary_seeds.yaml\n"
     ]
    }
   ],
   "source": [
    "run_command = REPO.create_experiment(cfg, override=False)\n",
    "print(run_command)"
   ]
  },
  {
   "cell_type": "code",
   "execution_count": null,
   "metadata": {},
   "outputs": [],
   "source": [
    "sweepr = REPO.get_output_loader(cfg)\n",
    "print(sweepr)"
   ]
  },
  {
   "attachments": {},
   "cell_type": "markdown",
   "metadata": {},
   "source": [
    "### Vary num blocks"
   ]
  },
  {
   "cell_type": "code",
   "execution_count": 5,
   "metadata": {},
   "outputs": [],
   "source": [
    "config_yaml = \"\"\"\n",
    "run_config:\n",
    "  exec_type: parallel\n",
    "  hostname: dragonfly\n",
    "  gpu_ids: [1]\n",
    "  runs_per_gpu: 1\n",
    "  use_cuda_visible_devices: True\n",
    "  wandb:\n",
    "    init:\n",
    "      tags:\n",
    "      - ${config.experiment_data.experiment_tag}_exps\n",
    "      - run_handler\n",
    "      notes: null\n",
    "      group: ${config.experiment_data.experiment_tag}\n",
    "      job_type: run_handler\n",
    "\n",
    "seeds: [0]\n",
    "\n",
    "sweep:\n",
    "  type: grid\n",
    "  axes: \n",
    "  - parameter: model.kwargs.num_blocks\n",
    "    vals: [2, 12]\n",
    "    \n",
    "start_num: 0\n",
    "config:\n",
    "  experiment_data:\n",
    "    entity: fslgroup\n",
    "    project_name: rwkv\n",
    "    experiment_tag: 'ablations'\n",
    "    experiment_type: num_blocks\n",
    "    experiment_name: vary_num_blocks\n",
    "    experiment_dir: null\n",
    "    experiment_notes: \n",
    "    seed: 0\n",
    "    gpu_id: 0\n",
    "   \n",
    "  model:\n",
    "    name: rwkv\n",
    "    kwargs:\n",
    "      embedding_dim: 512\n",
    "      attention_dim: 512\n",
    "      ffn_dim: 2048\n",
    "      num_blocks: 6\n",
    "      vocab_size: 6064 # will be set by data\n",
    "      context_len: 512\n",
    "      wkv_config: # set to null to use plain torch\n",
    "        T_max: 1024\n",
    "        float_mode: '16'\n",
    "        device: 'cuda:0'\n",
    "  \n",
    "  trainer:\n",
    "    n_epochs: 5 #default: 500\n",
    "    val_every: 5\n",
    "    save_every: 5 \n",
    "    batch_size: 12\n",
    "    optimizer:\n",
    "      name: Adam\n",
    "      kwargs:\n",
    "        lr: 0.0008\n",
    "\n",
    "  data:\n",
    "    name: enwik8 \n",
    "    kwargs: \n",
    "      batch_size: 12\n",
    "      datafile: '/system/user/beck/pwbeck/projects/rwkv/RWKV-LM/data/enwik8'\n",
    "      context_length: 512\n",
    "\"\"\"\n",
    "cfg = OmegaConf.create(config_yaml)"
   ]
  },
  {
   "cell_type": "code",
   "execution_count": 6,
   "metadata": {},
   "outputs": [
    {
     "name": "stdout",
     "output_type": "stream",
     "text": [
      "python run_sweep.py --config-name vary_num_blocks.yaml\n"
     ]
    }
   ],
   "source": [
    "run_command = REPO.create_experiment(cfg, override=False)\n",
    "print(run_command)"
   ]
  },
  {
   "cell_type": "code",
   "execution_count": null,
   "metadata": {},
   "outputs": [],
   "source": [
    "sweepr = REPO.get_output_loader(cfg)\n",
    "print(sweepr)"
   ]
  },
  {
   "attachments": {},
   "cell_type": "markdown",
   "metadata": {},
   "source": [
    "### Vary activation functions"
   ]
  },
  {
   "cell_type": "code",
   "execution_count": 10,
   "metadata": {},
   "outputs": [],
   "source": [
    "config_yaml = \"\"\"\n",
    "run_config:\n",
    "  exec_type: parallel\n",
    "  hostname: dragonfly\n",
    "  gpu_ids: [2]\n",
    "  runs_per_gpu: 1\n",
    "  use_cuda_visible_devices: True\n",
    "  # wandb:\n",
    "  #   init:\n",
    "  #     tags:\n",
    "  #     - ${config.experiment_data.experiment_tag}_exps\n",
    "  #     - run_handler\n",
    "  #     notes: null\n",
    "  #     group: ${config.experiment_data.experiment_tag}\n",
    "  #     job_type: run_handler\n",
    "\n",
    "seeds: [0]\n",
    "\n",
    "sweep:\n",
    "  type: grid\n",
    "  axes: \n",
    "  - parameter: model.kwargs.channelmix_act_fn\n",
    "    vals: ['relu', 'gelu', 'silu', 'selu']\n",
    "    \n",
    "start_num: 0\n",
    "config:\n",
    "  experiment_data:\n",
    "    entity: fslgroup\n",
    "    project_name: rwkv\n",
    "    experiment_tag: 'ablations'\n",
    "    experiment_type: act_fn\n",
    "    experiment_name: vary_act_fn\n",
    "    experiment_dir: null\n",
    "    experiment_notes: \n",
    "    seed: 0\n",
    "    gpu_id: 0\n",
    "   \n",
    "  model:\n",
    "    name: rwkv\n",
    "    kwargs:\n",
    "      embedding_dim: 512\n",
    "      attention_dim: 512\n",
    "      ffn_dim: 2048\n",
    "      num_blocks: 6\n",
    "      vocab_size: 6064 # will be set by data\n",
    "      context_len: 512\n",
    "      wkv_config: # set to null to use plain torch\n",
    "        T_max: 1024\n",
    "        float_mode: '16'\n",
    "        device: 'cuda:0'\n",
    "      channelmix_act_fn: relu_squared\n",
    "  \n",
    "  trainer:\n",
    "    n_epochs: 5 #default: 500\n",
    "    val_every: 5\n",
    "    save_every: 5 \n",
    "    batch_size: 12\n",
    "    optimizer:\n",
    "      name: Adam\n",
    "      kwargs:\n",
    "        lr: 0.0008\n",
    "\n",
    "  data:\n",
    "    name: enwik8 \n",
    "    kwargs: \n",
    "      batch_size: 12\n",
    "      datafile: '/system/user/beck/pwbeck/projects/rwkv/RWKV-LM/data/enwik8'\n",
    "      context_length: 512\n",
    "\"\"\"\n",
    "cfg = OmegaConf.create(config_yaml)"
   ]
  },
  {
   "cell_type": "code",
   "execution_count": 11,
   "metadata": {},
   "outputs": [
    {
     "name": "stdout",
     "output_type": "stream",
     "text": [
      "python run_sweep.py --config-name vary_act_fn.yaml\n"
     ]
    }
   ],
   "source": [
    "run_command = REPO.create_experiment(cfg, override=False)\n",
    "print(run_command)"
   ]
  },
  {
   "cell_type": "code",
   "execution_count": null,
   "metadata": {},
   "outputs": [],
   "source": [
    "sweepr = REPO.get_output_loader(cfg)\n",
    "print(sweepr)"
   ]
  },
  {
   "attachments": {},
   "cell_type": "markdown",
   "metadata": {},
   "source": [
    "### Vary time mixing"
   ]
  },
  {
   "cell_type": "code",
   "execution_count": 13,
   "metadata": {},
   "outputs": [],
   "source": [
    "config_yaml = \"\"\"\n",
    "run_config:\n",
    "  exec_type: parallel\n",
    "  hostname: dragonfly\n",
    "  gpu_ids: [3]\n",
    "  runs_per_gpu: 1\n",
    "  use_cuda_visible_devices: True\n",
    "  wandb:\n",
    "    init:\n",
    "      tags:\n",
    "      - ${config.experiment_data.experiment_tag}_exps\n",
    "      - run_handler\n",
    "      notes: null\n",
    "      group: ${config.experiment_data.experiment_tag}\n",
    "      job_type: run_handler\n",
    "\n",
    "seeds: [0]\n",
    "\n",
    "sweep:\n",
    "  type: grid\n",
    "  axes: \n",
    "  - parameter: model.kwargs.use_timemix_timemix\n",
    "    vals: [true, false]\n",
    "  - parameter: model.kwargs.use_timemix_channelmix\n",
    "    vals: [true, false]\n",
    "    \n",
    "start_num: 0\n",
    "config:\n",
    "  experiment_data:\n",
    "    entity: fslgroup\n",
    "    project_name: rwkv\n",
    "    experiment_tag: 'ablations'\n",
    "    experiment_type: timemix\n",
    "    experiment_name: vary_timemixing\n",
    "    experiment_dir: null\n",
    "    experiment_notes: \n",
    "    seed: 0\n",
    "    gpu_id: 0\n",
    "   \n",
    "  model:\n",
    "    name: rwkv\n",
    "    kwargs:\n",
    "      embedding_dim: 512\n",
    "      attention_dim: 512\n",
    "      ffn_dim: 2048\n",
    "      num_blocks: 6\n",
    "      vocab_size: 6064 # will be set by data\n",
    "      context_len: 512\n",
    "      wkv_config: # set to null to use plain torch\n",
    "        T_max: 1024\n",
    "        float_mode: '16'\n",
    "        device: 'cuda:0'\n",
    "      use_timemix_timemix: true\n",
    "      use_timemix_channelmix: true\n",
    "      \n",
    "  \n",
    "  trainer:\n",
    "    n_epochs: 5 #default: 500\n",
    "    val_every: 5\n",
    "    save_every: 5 \n",
    "    batch_size: 12\n",
    "    optimizer:\n",
    "      name: Adam\n",
    "      kwargs:\n",
    "        lr: 0.0008\n",
    "\n",
    "  data:\n",
    "    name: enwik8 \n",
    "    kwargs: \n",
    "      batch_size: 12\n",
    "      datafile: '/system/user/beck/pwbeck/projects/rwkv/RWKV-LM/data/enwik8'\n",
    "      context_length: 512\n",
    "\"\"\"\n",
    "cfg = OmegaConf.create(config_yaml)"
   ]
  },
  {
   "cell_type": "code",
   "execution_count": 14,
   "metadata": {},
   "outputs": [
    {
     "name": "stdout",
     "output_type": "stream",
     "text": [
      "python run_sweep.py --config-name vary_timemixing.yaml\n"
     ]
    }
   ],
   "source": [
    "run_command = REPO.create_experiment(cfg, override=False)\n",
    "print(run_command)"
   ]
  },
  {
   "cell_type": "code",
   "execution_count": null,
   "metadata": {},
   "outputs": [],
   "source": [
    "sweepr = REPO.get_output_loader(cfg)\n",
    "print(sweepr)"
   ]
  }
 ],
 "metadata": {
  "kernelspec": {
   "display_name": "Python 3.10.4 ('subspaces')",
   "language": "python",
   "name": "python3"
  },
  "language_info": {
   "codemirror_mode": {
    "name": "ipython",
    "version": 3
   },
   "file_extension": ".py",
   "mimetype": "text/x-python",
   "name": "python",
   "nbconvert_exporter": "python",
   "pygments_lexer": "ipython3",
   "version": "3.10.10"
  },
  "orig_nbformat": 4,
  "vscode": {
   "interpreter": {
    "hash": "ac019f01eb2a0970f066d5e193a84f30bb43215eeeface9d3d8db32241c79700"
   }
  }
 },
 "nbformat": 4,
 "nbformat_minor": 2
}
