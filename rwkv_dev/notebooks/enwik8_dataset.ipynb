{
 "cells": [
  {
   "cell_type": "code",
   "execution_count": 12,
   "metadata": {},
   "outputs": [
    {
     "name": "stdout",
     "output_type": "stream",
     "text": [
      "The autoreload extension is already loaded. To reload it, use:\n",
      "  %reload_ext autoreload\n"
     ]
    }
   ],
   "source": [
    "%load_ext autoreload\n",
    "%autoreload 2\n",
    "import sys\n",
    "sys.path.append('../..')\n",
    "from rwkv.data.enwik8_dataset import EnWik8\n",
    "from torch.utils import data"
   ]
  },
  {
   "cell_type": "code",
   "execution_count": 13,
   "metadata": {},
   "outputs": [
    {
     "name": "stdout",
     "output_type": "stream",
     "text": [
      "Data has 99621832 tokens, 6064 vocab size.\n"
     ]
    }
   ],
   "source": [
    "ds = EnWik8(datafile='/system/user/beck/pwbeck/projects/rwkv/RWKV-LM/data/enwik8')"
   ]
  },
  {
   "cell_type": "code",
   "execution_count": 14,
   "metadata": {},
   "outputs": [],
   "source": [
    "data_loader = data.DataLoader(ds,\n",
    "                         shuffle=False,\n",
    "                         pin_memory=True,\n",
    "                         batch_size=12,\n",
    "                         num_workers=1,\n",
    "                         persistent_workers=True,\n",
    "                         drop_last=True)\n"
   ]
  },
  {
   "cell_type": "code",
   "execution_count": 15,
   "metadata": {},
   "outputs": [
    {
     "data": {
      "text/plain": [
       "[tensor([[16,  1,  1,  ...,  2, 84, 71],\n",
       "         [ 2,  2,  2,  ..., 23, 25, 23],\n",
       "         [20, 30, 17,  ..., 90, 67, 80],\n",
       "         ...,\n",
       "         [75, 80, 72,  ..., 67, 86,  2],\n",
       "         [74, 86, 86,  ..., 53, 82, 67],\n",
       "         [74, 67, 84,  ..., 86, 74, 71]]),\n",
       " tensor([[ 1,  1, 42,  ..., 84, 71, 85],\n",
       "         [ 2,  2, 30,  ..., 25, 23, 21],\n",
       "         [30, 17, 75,  ..., 67, 80, 70],\n",
       "         ...,\n",
       "         [80, 72, 81,  ..., 86,  2, 47],\n",
       "         [86, 86, 82,  ..., 82, 67, 69],\n",
       "         [67, 84, 78,  ..., 74, 71,  2]])]"
      ]
     },
     "execution_count": 15,
     "metadata": {},
     "output_type": "execute_result"
    }
   ],
   "source": [
    "next(iter(data_loader))"
   ]
  },
  {
   "cell_type": "code",
   "execution_count": 17,
   "metadata": {},
   "outputs": [],
   "source": [
    "batch = next(iter(data_loader))"
   ]
  },
  {
   "cell_type": "code",
   "execution_count": 20,
   "metadata": {},
   "outputs": [
    {
     "data": {
      "text/plain": [
       "2"
      ]
     },
     "execution_count": 20,
     "metadata": {},
     "output_type": "execute_result"
    }
   ],
   "source": []
  },
  {
   "cell_type": "code",
   "execution_count": null,
   "metadata": {},
   "outputs": [],
   "source": []
  }
 ],
 "metadata": {
  "kernelspec": {
   "display_name": "rwkv2",
   "language": "python",
   "name": "python3"
  },
  "language_info": {
   "codemirror_mode": {
    "name": "ipython",
    "version": 3
   },
   "file_extension": ".py",
   "mimetype": "text/x-python",
   "name": "python",
   "nbconvert_exporter": "python",
   "pygments_lexer": "ipython3",
   "version": "3.10.10"
  },
  "orig_nbformat": 4
 },
 "nbformat": 4,
 "nbformat_minor": 2
}
