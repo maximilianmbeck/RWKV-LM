{
 "cells": [
  {
   "cell_type": "code",
   "execution_count": 2,
   "metadata": {},
   "outputs": [
    {
     "ename": "ModuleNotFoundError",
     "evalue": "No module named 'ml_utils'",
     "output_type": "error",
     "traceback": [
      "\u001b[0;31m---------------------------------------------------------------------------\u001b[0m",
      "\u001b[0;31mModuleNotFoundError\u001b[0m                       Traceback (most recent call last)",
      "Cell \u001b[0;32mIn[2], line 4\u001b[0m\n\u001b[1;32m      2\u001b[0m \u001b[39mimport\u001b[39;00m \u001b[39msys\u001b[39;00m\n\u001b[1;32m      3\u001b[0m sys\u001b[39m.\u001b[39mpath\u001b[39m.\u001b[39mappend(\u001b[39m'\u001b[39m\u001b[39m../..\u001b[39m\u001b[39m'\u001b[39m)\n\u001b[0;32m----> 4\u001b[0m \u001b[39mfrom\u001b[39;00m \u001b[39mrwkv_dev\u001b[39;00m\u001b[39m.\u001b[39;00m\u001b[39mrwkv\u001b[39;00m\u001b[39m.\u001b[39;00m\u001b[39mmodels\u001b[39;00m \u001b[39mimport\u001b[39;00m get_model, get_model_class\n",
      "File \u001b[0;32m/system/user/publicwork/beck/projects/rwkv/RWKV-LM/rwkv_dev/notebooks/../../rwkv_dev/rwkv/models/__init__.py:6\u001b[0m\n\u001b[1;32m      3\u001b[0m \u001b[39mfrom\u001b[39;00m \u001b[39mtyping\u001b[39;00m \u001b[39mimport\u001b[39;00m Dict, Type, Union\n\u001b[1;32m      5\u001b[0m \u001b[39mfrom\u001b[39;00m \u001b[39mdacite\u001b[39;00m \u001b[39mimport\u001b[39;00m from_dict\n\u001b[0;32m----> 6\u001b[0m \u001b[39mfrom\u001b[39;00m \u001b[39mml_utils\u001b[39;00m\u001b[39m.\u001b[39;00m\u001b[39mconfig\u001b[39;00m \u001b[39mimport\u001b[39;00m NameAndKwargs\n\u001b[1;32m      7\u001b[0m \u001b[39mfrom\u001b[39;00m \u001b[39momegaconf\u001b[39;00m \u001b[39mimport\u001b[39;00m DictConfig, OmegaConf\n\u001b[1;32m      9\u001b[0m \u001b[39mfrom\u001b[39;00m \u001b[39mrwkv_dev\u001b[39;00m\u001b[39m.\u001b[39;00m\u001b[39mml_utils\u001b[39;00m\u001b[39m.\u001b[39;00m\u001b[39mmodels\u001b[39;00m\u001b[39m.\u001b[39;00m\u001b[39mbase_model\u001b[39;00m \u001b[39mimport\u001b[39;00m BaseModel\n",
      "\u001b[0;31mModuleNotFoundError\u001b[0m: No module named 'ml_utils'"
     ]
    }
   ],
   "source": [
    "from omegaconf import OmegaConf\n",
    "import sys\n",
    "sys.path.append('../..')\n",
    "from rwkv_dev.rwkv.models import get_model, get_model_class"
   ]
  },
  {
   "cell_type": "code",
   "execution_count": 12,
   "metadata": {},
   "outputs": [],
   "source": [
    "cfg = \"\"\"\n",
    "config:\n",
    "  model:\n",
    "    name: rwkv\n",
    "    kwargs:\n",
    "      embedding_dim: 512\n",
    "      attention_dim: 512\n",
    "      ffn_dim: 2048\n",
    "      num_blocks: 6\n",
    "      vocab_size: 0 # will be set by data\n",
    "      context_len: 512\n",
    "      wkv_config: null # set to null to use plain torch\n",
    "        # T_max: 1024\n",
    "        # float_mode: 16\n",
    "\"\"\"\n",
    "\n",
    "cfg = OmegaConf.create(cfg)"
   ]
  },
  {
   "cell_type": "code",
   "execution_count": 13,
   "metadata": {},
   "outputs": [
    {
     "data": {
      "text/plain": [
       "rwkv_dev.rwkv.models.rwkv_model.RWKV"
      ]
     },
     "execution_count": 13,
     "metadata": {},
     "output_type": "execute_result"
    }
   ],
   "source": [
    "model_class = get_model_class(cfg.config.model.name)\n",
    "model_class"
   ]
  },
  {
   "cell_type": "code",
   "execution_count": 15,
   "metadata": {},
   "outputs": [
    {
     "ename": "ValidationError",
     "evalue": "Unsupported value type: <generator object _build_value_for_collection.<locals>.<genexpr> at 0x7f4e15535e70>\n    full_key: \n    object_type=None",
     "output_type": "error",
     "traceback": [
      "\u001b[0;31m---------------------------------------------------------------------------\u001b[0m",
      "\u001b[0;31mValidationError\u001b[0m                           Traceback (most recent call last)",
      "File \u001b[0;32m/system/apps/userenv/beck/rwkv2/lib/python3.10/site-packages/omegaconf/dictconfig.py:109\u001b[0m, in \u001b[0;36mDictConfig.__init__\u001b[0;34m(self, content, key, parent, ref_type, key_type, element_type, is_optional, flags)\u001b[0m\n\u001b[1;32m    108\u001b[0m             \u001b[39mself\u001b[39m\u001b[39m.\u001b[39m\u001b[39m__dict__\u001b[39m[\u001b[39m\"\u001b[39m\u001b[39m_metadata\u001b[39m\u001b[39m\"\u001b[39m] \u001b[39m=\u001b[39m metadata\n\u001b[0;32m--> 109\u001b[0m         \u001b[39mself\u001b[39;49m\u001b[39m.\u001b[39;49m_set_value(content, flags\u001b[39m=\u001b[39;49mflags)\n\u001b[1;32m    110\u001b[0m \u001b[39mexcept\u001b[39;00m \u001b[39mException\u001b[39;00m \u001b[39mas\u001b[39;00m ex:\n",
      "File \u001b[0;32m/system/apps/userenv/beck/rwkv2/lib/python3.10/site-packages/omegaconf/dictconfig.py:647\u001b[0m, in \u001b[0;36mDictConfig._set_value\u001b[0;34m(self, value, flags)\u001b[0m\n\u001b[1;32m    646\u001b[0m \u001b[39mself\u001b[39m\u001b[39m.\u001b[39m\u001b[39m__dict__\u001b[39m[\u001b[39m\"\u001b[39m\u001b[39m_content\u001b[39m\u001b[39m\"\u001b[39m] \u001b[39m=\u001b[39m previous_content\n\u001b[0;32m--> 647\u001b[0m \u001b[39mraise\u001b[39;00m e\n",
      "File \u001b[0;32m/system/apps/userenv/beck/rwkv2/lib/python3.10/site-packages/omegaconf/dictconfig.py:644\u001b[0m, in \u001b[0;36mDictConfig._set_value\u001b[0;34m(self, value, flags)\u001b[0m\n\u001b[1;32m    643\u001b[0m     previous_content \u001b[39m=\u001b[39m \u001b[39mself\u001b[39m\u001b[39m.\u001b[39m\u001b[39m__dict__\u001b[39m[\u001b[39m\"\u001b[39m\u001b[39m_content\u001b[39m\u001b[39m\"\u001b[39m]\n\u001b[0;32m--> 644\u001b[0m     \u001b[39mself\u001b[39;49m\u001b[39m.\u001b[39;49m_set_value_impl(value, flags)\n\u001b[1;32m    645\u001b[0m \u001b[39mexcept\u001b[39;00m \u001b[39mException\u001b[39;00m \u001b[39mas\u001b[39;00m e:\n",
      "File \u001b[0;32m/system/apps/userenv/beck/rwkv2/lib/python3.10/site-packages/omegaconf/dictconfig.py:695\u001b[0m, in \u001b[0;36mDictConfig._set_value_impl\u001b[0;34m(self, value, flags)\u001b[0m\n\u001b[1;32m    694\u001b[0m msg \u001b[39m=\u001b[39m \u001b[39mf\u001b[39m\u001b[39m\"\u001b[39m\u001b[39mUnsupported value type: \u001b[39m\u001b[39m{\u001b[39;00mvalue\u001b[39m}\u001b[39;00m\u001b[39m\"\u001b[39m\n\u001b[0;32m--> 695\u001b[0m \u001b[39mraise\u001b[39;00m ValidationError(msg)\n",
      "\u001b[0;31mValidationError\u001b[0m: Unsupported value type: <generator object _build_value_for_collection.<locals>.<genexpr> at 0x7f4e15535e70>",
      "\nThe above exception was the direct cause of the following exception:\n",
      "\u001b[0;31mValidationError\u001b[0m                           Traceback (most recent call last)",
      "Cell \u001b[0;32mIn[15], line 1\u001b[0m\n\u001b[0;32m----> 1\u001b[0m model \u001b[39m=\u001b[39m get_model(cfg\u001b[39m.\u001b[39;49mconfig\u001b[39m.\u001b[39;49mmodel)\n",
      "File \u001b[0;32m/system/user/publicwork/beck/projects/rwkv/RWKV-LM/rwkv_dev/notebooks/../../rwkv_dev/rwkv/models/__init__.py:22\u001b[0m, in \u001b[0;36mget_model\u001b[0;34m(config)\u001b[0m\n\u001b[1;32m     21\u001b[0m \u001b[39mdef\u001b[39;00m \u001b[39mget_model\u001b[39m(config: Union[Dict, DictConfig]) \u001b[39m-\u001b[39m\u001b[39m>\u001b[39m BaseModel:\n\u001b[0;32m---> 22\u001b[0m     cfg \u001b[39m=\u001b[39m from_dict(data_class\u001b[39m=\u001b[39;49mNameAndKwargs, data\u001b[39m=\u001b[39;49mconfig)\n\u001b[1;32m     23\u001b[0m     model_class \u001b[39m=\u001b[39m get_model_class(cfg\u001b[39m.\u001b[39mname)\n\u001b[1;32m     24\u001b[0m     model_cfg \u001b[39m=\u001b[39m from_dict(data_class\u001b[39m=\u001b[39mmodel_class\u001b[39m.\u001b[39mconfig_class, data\u001b[39m=\u001b[39mcfg\u001b[39m.\u001b[39mkwargs)\n",
      "File \u001b[0;32m/system/apps/userenv/beck/rwkv2/lib/python3.10/site-packages/dacite/core.py:64\u001b[0m, in \u001b[0;36mfrom_dict\u001b[0;34m(data_class, data, config)\u001b[0m\n\u001b[1;32m     62\u001b[0m \u001b[39mtry\u001b[39;00m:\n\u001b[1;32m     63\u001b[0m     field_data \u001b[39m=\u001b[39m data[field\u001b[39m.\u001b[39mname]\n\u001b[0;32m---> 64\u001b[0m     value \u001b[39m=\u001b[39m _build_value(type_\u001b[39m=\u001b[39;49mfield_type, data\u001b[39m=\u001b[39;49mfield_data, config\u001b[39m=\u001b[39;49mconfig)\n\u001b[1;32m     65\u001b[0m \u001b[39mexcept\u001b[39;00m DaciteFieldError \u001b[39mas\u001b[39;00m error:\n\u001b[1;32m     66\u001b[0m     error\u001b[39m.\u001b[39mupdate_path(field\u001b[39m.\u001b[39mname)\n",
      "File \u001b[0;32m/system/apps/userenv/beck/rwkv2/lib/python3.10/site-packages/dacite/core.py:97\u001b[0m, in \u001b[0;36m_build_value\u001b[0;34m(type_, data, config)\u001b[0m\n\u001b[1;32m     95\u001b[0m     data \u001b[39m=\u001b[39m _build_value_for_union(union\u001b[39m=\u001b[39mtype_, data\u001b[39m=\u001b[39mdata, config\u001b[39m=\u001b[39mconfig)\n\u001b[1;32m     96\u001b[0m \u001b[39melif\u001b[39;00m is_generic_collection(type_):\n\u001b[0;32m---> 97\u001b[0m     data \u001b[39m=\u001b[39m _build_value_for_collection(collection\u001b[39m=\u001b[39;49mtype_, data\u001b[39m=\u001b[39;49mdata, config\u001b[39m=\u001b[39;49mconfig)\n\u001b[1;32m     98\u001b[0m \u001b[39melif\u001b[39;00m cache(is_dataclass)(type_) \u001b[39mand\u001b[39;00m \u001b[39misinstance\u001b[39m(data, Mapping):\n\u001b[1;32m     99\u001b[0m     data \u001b[39m=\u001b[39m from_dict(data_class\u001b[39m=\u001b[39mtype_, data\u001b[39m=\u001b[39mdata, config\u001b[39m=\u001b[39mconfig)\n",
      "File \u001b[0;32m/system/apps/userenv/beck/rwkv2/lib/python3.10/site-packages/dacite/core.py:142\u001b[0m, in \u001b[0;36m_build_value_for_collection\u001b[0;34m(collection, data, config)\u001b[0m\n\u001b[1;32m    140\u001b[0m \u001b[39mif\u001b[39;00m \u001b[39misinstance\u001b[39m(data, Mapping) \u001b[39mand\u001b[39;00m is_subclass(collection, Mapping):\n\u001b[1;32m    141\u001b[0m     item_type \u001b[39m=\u001b[39m extract_generic(collection, defaults\u001b[39m=\u001b[39m(Any, Any))[\u001b[39m1\u001b[39m]\n\u001b[0;32m--> 142\u001b[0m     \u001b[39mreturn\u001b[39;00m data_type((key, _build_value(type_\u001b[39m=\u001b[39;49mitem_type, data\u001b[39m=\u001b[39;49mvalue, config\u001b[39m=\u001b[39;49mconfig)) \u001b[39mfor\u001b[39;49;00m key, value \u001b[39min\u001b[39;49;00m data\u001b[39m.\u001b[39;49mitems())\n\u001b[1;32m    143\u001b[0m \u001b[39melif\u001b[39;00m \u001b[39misinstance\u001b[39m(data, \u001b[39mtuple\u001b[39m) \u001b[39mand\u001b[39;00m is_subclass(collection, \u001b[39mtuple\u001b[39m):\n\u001b[1;32m    144\u001b[0m     \u001b[39mif\u001b[39;00m \u001b[39mnot\u001b[39;00m data:\n",
      "File \u001b[0;32m/system/apps/userenv/beck/rwkv2/lib/python3.10/site-packages/omegaconf/dictconfig.py:111\u001b[0m, in \u001b[0;36mDictConfig.__init__\u001b[0;34m(self, content, key, parent, ref_type, key_type, element_type, is_optional, flags)\u001b[0m\n\u001b[1;32m    109\u001b[0m         \u001b[39mself\u001b[39m\u001b[39m.\u001b[39m_set_value(content, flags\u001b[39m=\u001b[39mflags)\n\u001b[1;32m    110\u001b[0m \u001b[39mexcept\u001b[39;00m \u001b[39mException\u001b[39;00m \u001b[39mas\u001b[39;00m ex:\n\u001b[0;32m--> 111\u001b[0m     format_and_raise(node\u001b[39m=\u001b[39;49m\u001b[39mNone\u001b[39;49;00m, key\u001b[39m=\u001b[39;49mkey, value\u001b[39m=\u001b[39;49m\u001b[39mNone\u001b[39;49;00m, cause\u001b[39m=\u001b[39;49mex, msg\u001b[39m=\u001b[39;49m\u001b[39mstr\u001b[39;49m(ex))\n",
      "File \u001b[0;32m/system/apps/userenv/beck/rwkv2/lib/python3.10/site-packages/omegaconf/_utils.py:899\u001b[0m, in \u001b[0;36mformat_and_raise\u001b[0;34m(node, key, value, msg, cause, type_override)\u001b[0m\n\u001b[1;32m    896\u001b[0m     ex\u001b[39m.\u001b[39mref_type \u001b[39m=\u001b[39m ref_type\n\u001b[1;32m    897\u001b[0m     ex\u001b[39m.\u001b[39mref_type_str \u001b[39m=\u001b[39m ref_type_str\n\u001b[0;32m--> 899\u001b[0m _raise(ex, cause)\n",
      "File \u001b[0;32m/system/apps/userenv/beck/rwkv2/lib/python3.10/site-packages/omegaconf/_utils.py:797\u001b[0m, in \u001b[0;36m_raise\u001b[0;34m(ex, cause)\u001b[0m\n\u001b[1;32m    795\u001b[0m \u001b[39melse\u001b[39;00m:\n\u001b[1;32m    796\u001b[0m     ex\u001b[39m.\u001b[39m__cause__ \u001b[39m=\u001b[39m \u001b[39mNone\u001b[39;00m\n\u001b[0;32m--> 797\u001b[0m \u001b[39mraise\u001b[39;00m ex\u001b[39m.\u001b[39mwith_traceback(sys\u001b[39m.\u001b[39mexc_info()[\u001b[39m2\u001b[39m])\n",
      "File \u001b[0;32m/system/apps/userenv/beck/rwkv2/lib/python3.10/site-packages/omegaconf/dictconfig.py:109\u001b[0m, in \u001b[0;36mDictConfig.__init__\u001b[0;34m(self, content, key, parent, ref_type, key_type, element_type, is_optional, flags)\u001b[0m\n\u001b[1;32m    107\u001b[0m             metadata\u001b[39m.\u001b[39mkey_type \u001b[39m=\u001b[39m key_type\n\u001b[1;32m    108\u001b[0m             \u001b[39mself\u001b[39m\u001b[39m.\u001b[39m\u001b[39m__dict__\u001b[39m[\u001b[39m\"\u001b[39m\u001b[39m_metadata\u001b[39m\u001b[39m\"\u001b[39m] \u001b[39m=\u001b[39m metadata\n\u001b[0;32m--> 109\u001b[0m         \u001b[39mself\u001b[39;49m\u001b[39m.\u001b[39;49m_set_value(content, flags\u001b[39m=\u001b[39;49mflags)\n\u001b[1;32m    110\u001b[0m \u001b[39mexcept\u001b[39;00m \u001b[39mException\u001b[39;00m \u001b[39mas\u001b[39;00m ex:\n\u001b[1;32m    111\u001b[0m     format_and_raise(node\u001b[39m=\u001b[39m\u001b[39mNone\u001b[39;00m, key\u001b[39m=\u001b[39mkey, value\u001b[39m=\u001b[39m\u001b[39mNone\u001b[39;00m, cause\u001b[39m=\u001b[39mex, msg\u001b[39m=\u001b[39m\u001b[39mstr\u001b[39m(ex))\n",
      "File \u001b[0;32m/system/apps/userenv/beck/rwkv2/lib/python3.10/site-packages/omegaconf/dictconfig.py:647\u001b[0m, in \u001b[0;36mDictConfig._set_value\u001b[0;34m(self, value, flags)\u001b[0m\n\u001b[1;32m    645\u001b[0m \u001b[39mexcept\u001b[39;00m \u001b[39mException\u001b[39;00m \u001b[39mas\u001b[39;00m e:\n\u001b[1;32m    646\u001b[0m     \u001b[39mself\u001b[39m\u001b[39m.\u001b[39m\u001b[39m__dict__\u001b[39m[\u001b[39m\"\u001b[39m\u001b[39m_content\u001b[39m\u001b[39m\"\u001b[39m] \u001b[39m=\u001b[39m previous_content\n\u001b[0;32m--> 647\u001b[0m     \u001b[39mraise\u001b[39;00m e\n",
      "File \u001b[0;32m/system/apps/userenv/beck/rwkv2/lib/python3.10/site-packages/omegaconf/dictconfig.py:644\u001b[0m, in \u001b[0;36mDictConfig._set_value\u001b[0;34m(self, value, flags)\u001b[0m\n\u001b[1;32m    642\u001b[0m \u001b[39mtry\u001b[39;00m:\n\u001b[1;32m    643\u001b[0m     previous_content \u001b[39m=\u001b[39m \u001b[39mself\u001b[39m\u001b[39m.\u001b[39m\u001b[39m__dict__\u001b[39m[\u001b[39m\"\u001b[39m\u001b[39m_content\u001b[39m\u001b[39m\"\u001b[39m]\n\u001b[0;32m--> 644\u001b[0m     \u001b[39mself\u001b[39;49m\u001b[39m.\u001b[39;49m_set_value_impl(value, flags)\n\u001b[1;32m    645\u001b[0m \u001b[39mexcept\u001b[39;00m \u001b[39mException\u001b[39;00m \u001b[39mas\u001b[39;00m e:\n\u001b[1;32m    646\u001b[0m     \u001b[39mself\u001b[39m\u001b[39m.\u001b[39m\u001b[39m__dict__\u001b[39m[\u001b[39m\"\u001b[39m\u001b[39m_content\u001b[39m\u001b[39m\"\u001b[39m] \u001b[39m=\u001b[39m previous_content\n",
      "File \u001b[0;32m/system/apps/userenv/beck/rwkv2/lib/python3.10/site-packages/omegaconf/dictconfig.py:695\u001b[0m, in \u001b[0;36mDictConfig._set_value_impl\u001b[0;34m(self, value, flags)\u001b[0m\n\u001b[1;32m    693\u001b[0m \u001b[39melse\u001b[39;00m:  \u001b[39m# pragma: no cover\u001b[39;00m\n\u001b[1;32m    694\u001b[0m     msg \u001b[39m=\u001b[39m \u001b[39mf\u001b[39m\u001b[39m\"\u001b[39m\u001b[39mUnsupported value type: \u001b[39m\u001b[39m{\u001b[39;00mvalue\u001b[39m}\u001b[39;00m\u001b[39m\"\u001b[39m\n\u001b[0;32m--> 695\u001b[0m     \u001b[39mraise\u001b[39;00m ValidationError(msg)\n",
      "\u001b[0;31mValidationError\u001b[0m: Unsupported value type: <generator object _build_value_for_collection.<locals>.<genexpr> at 0x7f4e15535e70>\n    full_key: \n    object_type=None"
     ]
    }
   ],
   "source": [
    "model = get_model(cfg.config.model)"
   ]
  },
  {
   "cell_type": "code",
   "execution_count": null,
   "metadata": {},
   "outputs": [],
   "source": []
  }
 ],
 "metadata": {
  "kernelspec": {
   "display_name": "rwkv2",
   "language": "python",
   "name": "python3"
  },
  "language_info": {
   "codemirror_mode": {
    "name": "ipython",
    "version": 3
   },
   "file_extension": ".py",
   "mimetype": "text/x-python",
   "name": "python",
   "nbconvert_exporter": "python",
   "pygments_lexer": "ipython3",
   "version": "3.10.10"
  },
  "orig_nbformat": 4
 },
 "nbformat": 4,
 "nbformat_minor": 2
}
