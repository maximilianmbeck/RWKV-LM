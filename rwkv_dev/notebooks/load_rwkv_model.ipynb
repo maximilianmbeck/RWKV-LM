{
 "cells": [
  {
   "cell_type": "code",
   "execution_count": 1,
   "metadata": {},
   "outputs": [
    {
     "name": "stderr",
     "output_type": "stream",
     "text": [
      "/system/apps/userenv/beck/rwkv2/lib/python3.10/site-packages/tqdm/auto.py:21: TqdmWarning: IProgress not found. Please update jupyter and ipywidgets. See https://ipywidgets.readthedocs.io/en/stable/user_install.html\n",
      "  from .autonotebook import tqdm as notebook_tqdm\n"
     ]
    }
   ],
   "source": [
    "%load_ext autoreload\n",
    "%autoreload 2\n",
    "from omegaconf import OmegaConf\n",
    "import sys\n",
    "sys.path.append('../..')\n",
    "from rwkv.models import get_model, get_model_class\n",
    "import torchmetrics"
   ]
  },
  {
   "cell_type": "code",
   "execution_count": 2,
   "metadata": {},
   "outputs": [],
   "source": [
    "cfg = \"\"\"\n",
    "config:\n",
    "  model:\n",
    "    name: rwkv\n",
    "    kwargs:\n",
    "      embedding_dim: 512\n",
    "      attention_dim: 512\n",
    "      ffn_dim: 2048\n",
    "      num_blocks: 6\n",
    "      vocab_size: 0 # will be set by data\n",
    "      context_len: 512\n",
    "      wkv_config: # set to null to use plain torch\n",
    "        T_max: 1024\n",
    "        float_mode: '16'\n",
    "\"\"\"\n",
    "\n",
    "cfg = OmegaConf.create(cfg)"
   ]
  },
  {
   "cell_type": "code",
   "execution_count": 3,
   "metadata": {},
   "outputs": [
    {
     "data": {
      "text/plain": [
       "rwkv_dev.rwkv.models.rwkv_model.RWKV"
      ]
     },
     "execution_count": 3,
     "metadata": {},
     "output_type": "execute_result"
    }
   ],
   "source": [
    "model_class = get_model_class(cfg.config.model.name)\n",
    "model_class"
   ]
  },
  {
   "cell_type": "code",
   "execution_count": 4,
   "metadata": {},
   "outputs": [
    {
     "name": "stderr",
     "output_type": "stream",
     "text": [
      "Using /system/user/beck/.cache/torch_extensions/py310_cu117 as PyTorch extensions root...\n",
      "Detected CUDA files, patching ldflags\n",
      "Emitting ninja build file /system/user/beck/.cache/torch_extensions/py310_cu117/wkv/build.ninja...\n",
      "Building extension module wkv...\n",
      "Allowing ninja to set a default number of workers... (overridable by setting the environment variable MAX_JOBS=N)\n"
     ]
    },
    {
     "name": "stdout",
     "output_type": "stream",
     "text": [
      "[1/3] /system/apps/userenv/beck/rwkv2/bin/nvcc  -DTORCH_EXTENSION_NAME=wkv -DTORCH_API_INCLUDE_EXTENSION_H -DPYBIND11_COMPILER_TYPE=\\\"_gcc\\\" -DPYBIND11_STDLIB=\\\"_libstdcpp\\\" -DPYBIND11_BUILD_ABI=\\\"_cxxabi1011\\\" -isystem /system/apps/userenv/beck/rwkv2/lib/python3.10/site-packages/torch/include -isystem /system/apps/userenv/beck/rwkv2/lib/python3.10/site-packages/torch/include/torch/csrc/api/include -isystem /system/apps/userenv/beck/rwkv2/lib/python3.10/site-packages/torch/include/TH -isystem /system/apps/userenv/beck/rwkv2/lib/python3.10/site-packages/torch/include/THC -isystem /system/apps/userenv/beck/rwkv2/include -isystem /system/apps/userenv/beck/rwkv2/include/python3.10 -D_GLIBCXX_USE_CXX11_ABI=0 -D__CUDA_NO_HALF_OPERATORS__ -D__CUDA_NO_HALF_CONVERSIONS__ -D__CUDA_NO_BFLOAT16_CONVERSIONS__ -D__CUDA_NO_HALF2_OPERATORS__ --expt-relaxed-constexpr -gencode=arch=compute_70,code=compute_70 -gencode=arch=compute_70,code=sm_70 --compiler-options '-fPIC' -res-usage --maxrregcount 60 --use_fast_math -O3 -Xptxas -O3 -DTmax=1024 -std=c++17 -c /system/user/publicwork/beck/projects/rwkv/RWKV-LM/rwkv_dev/rwkv/models/cuda/wkv_cuda.cu -o wkv_cuda.cuda.o \n",
      "ptxas info    : 0 bytes gmem\n",
      "ptxas info    : Compiling entry function '_Z15kernel_backwardIfEviiiPKT_S2_S2_S2_S2_S2_PS0_S3_S3_S3_' for 'sm_70'\n",
      "ptxas info    : Function properties for _Z15kernel_backwardIfEviiiPKT_S2_S2_S2_S2_S2_PS0_S3_S3_S3_\n",
      "    8192 bytes stack frame, 0 bytes spill stores, 0 bytes spill loads\n",
      "ptxas info    : Used 52 registers, 448 bytes cmem[0], 16 bytes cmem[2]\n",
      "ptxas info    : Compiling entry function '_Z14kernel_forwardIfEviiiPKT_S2_S2_S2_PS0_' for 'sm_70'\n",
      "ptxas info    : Function properties for _Z14kernel_forwardIfEviiiPKT_S2_S2_S2_PS0_\n",
      "    0 bytes stack frame, 0 bytes spill stores, 0 bytes spill loads\n",
      "ptxas info    : Used 40 registers, 408 bytes cmem[0]\n",
      "[2/3] c++ -MMD -MF wkv_op.o.d -DTORCH_EXTENSION_NAME=wkv -DTORCH_API_INCLUDE_EXTENSION_H -DPYBIND11_COMPILER_TYPE=\\\"_gcc\\\" -DPYBIND11_STDLIB=\\\"_libstdcpp\\\" -DPYBIND11_BUILD_ABI=\\\"_cxxabi1011\\\" -isystem /system/apps/userenv/beck/rwkv2/lib/python3.10/site-packages/torch/include -isystem /system/apps/userenv/beck/rwkv2/lib/python3.10/site-packages/torch/include/torch/csrc/api/include -isystem /system/apps/userenv/beck/rwkv2/lib/python3.10/site-packages/torch/include/TH -isystem /system/apps/userenv/beck/rwkv2/lib/python3.10/site-packages/torch/include/THC -isystem /system/apps/userenv/beck/rwkv2/include -isystem /system/apps/userenv/beck/rwkv2/include/python3.10 -D_GLIBCXX_USE_CXX11_ABI=0 -fPIC -std=c++17 -c /system/user/publicwork/beck/projects/rwkv/RWKV-LM/rwkv_dev/rwkv/models/cuda/wkv_op.cpp -o wkv_op.o \n",
      "[3/3] c++ wkv_op.o wkv_cuda.cuda.o -shared -L/system/apps/userenv/beck/rwkv2/lib/python3.10/site-packages/torch/lib -lc10 -lc10_cuda -ltorch_cpu -ltorch_cuda -ltorch -ltorch_python -L/system/apps/userenv/beck/rwkv2/lib64 -lcudart -o wkv.so\n"
     ]
    },
    {
     "name": "stderr",
     "output_type": "stream",
     "text": [
      "Loading extension module wkv...\n",
      "/system/apps/userenv/beck/rwkv2/lib/python3.10/site-packages/torch/nn/init.py:405: UserWarning: Initializing zero-element tensors is a no-op\n",
      "  warnings.warn(\"Initializing zero-element tensors is a no-op\")\n"
     ]
    }
   ],
   "source": [
    "model = get_model(cfg.config.model)"
   ]
  },
  {
   "cell_type": "code",
   "execution_count": null,
   "metadata": {},
   "outputs": [
    {
     "data": {
      "text/plain": [
       "RWKV(\n",
       "  (embedding): Embedding(0, 512)\n",
       "  (blocks): ModuleList(\n",
       "    (0): RWKVBlock(\n",
       "      (ln0): LayerNorm((512,), eps=1e-05, elementwise_affine=True)\n",
       "      (ln1): LayerNorm((512,), eps=1e-05, elementwise_affine=True)\n",
       "      (ln2): LayerNorm((512,), eps=1e-05, elementwise_affine=True)\n",
       "      (attention_timemix): RWKVTimeMix(\n",
       "        (time_shift): ZeroPad2d((0, 0, 1, -1))\n",
       "        (key): Linear(in_features=512, out_features=512, bias=False)\n",
       "        (value): Linear(in_features=512, out_features=512, bias=False)\n",
       "        (receptance): Linear(in_features=512, out_features=512, bias=False)\n",
       "        (output): Linear(in_features=512, out_features=512, bias=False)\n",
       "        (wkv): WKV()\n",
       "      )\n",
       "      (ffn_channelmix): RWKVChannelMix(\n",
       "        (time_shift): ZeroPad2d((0, 0, 1, -1))\n",
       "        (key): Linear(in_features=512, out_features=2048, bias=False)\n",
       "        (receptance): Linear(in_features=512, out_features=512, bias=False)\n",
       "        (value): Linear(in_features=2048, out_features=512, bias=False)\n",
       "      )\n",
       "    )\n",
       "    (1-5): 5 x RWKVBlock(\n",
       "      (ln1): LayerNorm((512,), eps=1e-05, elementwise_affine=True)\n",
       "      (ln2): LayerNorm((512,), eps=1e-05, elementwise_affine=True)\n",
       "      (attention_timemix): RWKVTimeMix(\n",
       "        (time_shift): ZeroPad2d((0, 0, 1, -1))\n",
       "        (key): Linear(in_features=512, out_features=512, bias=False)\n",
       "        (value): Linear(in_features=512, out_features=512, bias=False)\n",
       "        (receptance): Linear(in_features=512, out_features=512, bias=False)\n",
       "        (output): Linear(in_features=512, out_features=512, bias=False)\n",
       "        (wkv): WKV()\n",
       "      )\n",
       "      (ffn_channelmix): RWKVChannelMix(\n",
       "        (time_shift): ZeroPad2d((0, 0, 1, -1))\n",
       "        (key): Linear(in_features=512, out_features=2048, bias=False)\n",
       "        (receptance): Linear(in_features=512, out_features=512, bias=False)\n",
       "        (value): Linear(in_features=2048, out_features=512, bias=False)\n",
       "      )\n",
       "    )\n",
       "  )\n",
       "  (ln_out): LayerNorm((512,), eps=1e-05, elementwise_affine=True)\n",
       "  (head): Linear(in_features=512, out_features=0, bias=False)\n",
       ")"
      ]
     },
     "execution_count": 9,
     "metadata": {},
     "output_type": "execute_result"
    }
   ],
   "source": [
    "model"
   ]
  },
  {
   "cell_type": "code",
   "execution_count": 5,
   "metadata": {},
   "outputs": [
    {
     "ename": "TypeError",
     "evalue": "MetricCollection.__init__() missing 1 required positional argument: 'metrics'",
     "output_type": "error",
     "traceback": [
      "\u001b[0;31m---------------------------------------------------------------------------\u001b[0m",
      "\u001b[0;31mTypeError\u001b[0m                                 Traceback (most recent call last)",
      "Cell \u001b[0;32mIn[5], line 1\u001b[0m\n\u001b[0;32m----> 1\u001b[0m mc \u001b[39m=\u001b[39m torchmetrics\u001b[39m.\u001b[39;49mMetricCollection()\n",
      "\u001b[0;31mTypeError\u001b[0m: MetricCollection.__init__() missing 1 required positional argument: 'metrics'"
     ]
    }
   ],
   "source": [
    "mc = torchmetrics.MetricCollection()"
   ]
  },
  {
   "cell_type": "code",
   "execution_count": null,
   "metadata": {},
   "outputs": [],
   "source": []
  }
 ],
 "metadata": {
  "kernelspec": {
   "display_name": "rwkv2",
   "language": "python",
   "name": "python3"
  },
  "language_info": {
   "codemirror_mode": {
    "name": "ipython",
    "version": 3
   },
   "file_extension": ".py",
   "mimetype": "text/x-python",
   "name": "python",
   "nbconvert_exporter": "python",
   "pygments_lexer": "ipython3",
   "version": "3.10.10"
  },
  "orig_nbformat": 4
 },
 "nbformat": 4,
 "nbformat_minor": 2
}
