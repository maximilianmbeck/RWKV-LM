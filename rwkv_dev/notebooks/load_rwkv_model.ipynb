{
 "cells": [
  {
   "cell_type": "code",
   "execution_count": 5,
   "metadata": {},
   "outputs": [],
   "source": [
    "%load_ext autoreload\n",
    "%autoreload 2\n",
    "from omegaconf import OmegaConf\n",
    "import sys\n",
    "sys.path.append('../..')\n",
    "from rwkv_dev.rwkv.models import get_model, get_model_class"
   ]
  },
  {
   "cell_type": "code",
   "execution_count": 6,
   "metadata": {},
   "outputs": [],
   "source": [
    "cfg = \"\"\"\n",
    "config:\n",
    "  model:\n",
    "    name: rwkv\n",
    "    kwargs:\n",
    "      embedding_dim: 512\n",
    "      attention_dim: 512\n",
    "      ffn_dim: 2048\n",
    "      num_blocks: 6\n",
    "      vocab_size: 0 # will be set by data\n",
    "      context_len: 512\n",
    "      wkv_config: # set to null to use plain torch\n",
    "        T_max: 1024\n",
    "        float_mode: '16'\n",
    "\"\"\"\n",
    "\n",
    "cfg = OmegaConf.create(cfg)"
   ]
  },
  {
   "cell_type": "code",
   "execution_count": 7,
   "metadata": {},
   "outputs": [
    {
     "data": {
      "text/plain": [
       "rwkv_dev.rwkv.models.rwkv_model.RWKV"
      ]
     },
     "execution_count": 7,
     "metadata": {},
     "output_type": "execute_result"
    }
   ],
   "source": [
    "model_class = get_model_class(cfg.config.model.name)\n",
    "model_class"
   ]
  },
  {
   "cell_type": "code",
   "execution_count": 8,
   "metadata": {},
   "outputs": [
    {
     "name": "stderr",
     "output_type": "stream",
     "text": [
      "/system/apps/userenv/beck/rwkv2/lib/python3.10/site-packages/torch/nn/init.py:405: UserWarning: Initializing zero-element tensors is a no-op\n",
      "  warnings.warn(\"Initializing zero-element tensors is a no-op\")\n"
     ]
    }
   ],
   "source": [
    "model = get_model(cfg.config.model)"
   ]
  },
  {
   "cell_type": "code",
   "execution_count": 9,
   "metadata": {},
   "outputs": [
    {
     "data": {
      "text/plain": [
       "RWKV(\n",
       "  (embedding): Embedding(0, 512)\n",
       "  (blocks): ModuleList(\n",
       "    (0): RWKVBlock(\n",
       "      (ln0): LayerNorm((512,), eps=1e-05, elementwise_affine=True)\n",
       "      (ln1): LayerNorm((512,), eps=1e-05, elementwise_affine=True)\n",
       "      (ln2): LayerNorm((512,), eps=1e-05, elementwise_affine=True)\n",
       "      (attention_timemix): RWKVTimeMix(\n",
       "        (time_shift): ZeroPad2d((0, 0, 1, -1))\n",
       "        (key): Linear(in_features=512, out_features=512, bias=False)\n",
       "        (value): Linear(in_features=512, out_features=512, bias=False)\n",
       "        (receptance): Linear(in_features=512, out_features=512, bias=False)\n",
       "        (output): Linear(in_features=512, out_features=512, bias=False)\n",
       "        (wkv): WKV()\n",
       "      )\n",
       "      (ffn_channelmix): RWKVChannelMix(\n",
       "        (time_shift): ZeroPad2d((0, 0, 1, -1))\n",
       "        (key): Linear(in_features=512, out_features=2048, bias=False)\n",
       "        (receptance): Linear(in_features=512, out_features=512, bias=False)\n",
       "        (value): Linear(in_features=2048, out_features=512, bias=False)\n",
       "      )\n",
       "    )\n",
       "    (1-5): 5 x RWKVBlock(\n",
       "      (ln1): LayerNorm((512,), eps=1e-05, elementwise_affine=True)\n",
       "      (ln2): LayerNorm((512,), eps=1e-05, elementwise_affine=True)\n",
       "      (attention_timemix): RWKVTimeMix(\n",
       "        (time_shift): ZeroPad2d((0, 0, 1, -1))\n",
       "        (key): Linear(in_features=512, out_features=512, bias=False)\n",
       "        (value): Linear(in_features=512, out_features=512, bias=False)\n",
       "        (receptance): Linear(in_features=512, out_features=512, bias=False)\n",
       "        (output): Linear(in_features=512, out_features=512, bias=False)\n",
       "        (wkv): WKV()\n",
       "      )\n",
       "      (ffn_channelmix): RWKVChannelMix(\n",
       "        (time_shift): ZeroPad2d((0, 0, 1, -1))\n",
       "        (key): Linear(in_features=512, out_features=2048, bias=False)\n",
       "        (receptance): Linear(in_features=512, out_features=512, bias=False)\n",
       "        (value): Linear(in_features=2048, out_features=512, bias=False)\n",
       "      )\n",
       "    )\n",
       "  )\n",
       "  (ln_out): LayerNorm((512,), eps=1e-05, elementwise_affine=True)\n",
       "  (head): Linear(in_features=512, out_features=0, bias=False)\n",
       ")"
      ]
     },
     "execution_count": 9,
     "metadata": {},
     "output_type": "execute_result"
    }
   ],
   "source": []
  },
  {
   "cell_type": "code",
   "execution_count": null,
   "metadata": {},
   "outputs": [],
   "source": []
  }
 ],
 "metadata": {
  "kernelspec": {
   "display_name": "rwkv2",
   "language": "python",
   "name": "python3"
  },
  "language_info": {
   "codemirror_mode": {
    "name": "ipython",
    "version": 3
   },
   "file_extension": ".py",
   "mimetype": "text/x-python",
   "name": "python",
   "nbconvert_exporter": "python",
   "pygments_lexer": "ipython3",
   "version": "3.10.10"
  },
  "orig_nbformat": 4
 },
 "nbformat": 4,
 "nbformat_minor": 2
}
