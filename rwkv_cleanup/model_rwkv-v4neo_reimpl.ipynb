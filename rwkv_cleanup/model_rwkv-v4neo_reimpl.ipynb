{
 "cells": [
  {
   "cell_type": "code",
   "execution_count": 1,
   "metadata": {},
   "outputs": [
    {
     "name": "stderr",
     "output_type": "stream",
     "text": [
      "/system/apps/userenv/beck/rwkv/lib/python3.10/site-packages/tqdm/auto.py:21: TqdmWarning: IProgress not found. Please update jupyter and ipywidgets. See https://ipywidgets.readthedocs.io/en/stable/user_install.html\n",
      "  from .autonotebook import tqdm as notebook_tqdm\n",
      "Global seed set to 42\n"
     ]
    },
    {
     "data": {
      "text/plain": [
       "42"
      ]
     },
     "execution_count": 1,
     "metadata": {},
     "output_type": "execute_result"
    }
   ],
   "source": [
    "# %load_ext autorelaod\n",
    "# %autoreload 2\n",
    "\n",
    "import sys\n",
    "sys.path.append('./../RWKV-v4neo/src')\n",
    "import torch \n",
    "from torch.utils import data\n",
    "from enwik8_dataset import EnWik8\n",
    "import json\n",
    "import argparse\n",
    "import os\n",
    "from torch import nn\n",
    "from lightning import seed_everything\n",
    "seed_everything(42)"
   ]
  },
  {
   "cell_type": "code",
   "execution_count": 2,
   "metadata": {},
   "outputs": [],
   "source": [
    "def load_json(path):\n",
    "    with open(path, 'r') as f:\n",
    "        return json.load(f)\n",
    "def set_environ(env_vars: dict):\n",
    "    for k, v in env_vars.items():\n",
    "        os.environ[k] = v"
   ]
  },
  {
   "cell_type": "code",
   "execution_count": 3,
   "metadata": {},
   "outputs": [],
   "source": [
    "data_path = '/system/user/beck/pwbeck/projects/rwkv/RWKV-LM/data/enwik8'\n",
    "args = load_json('./debug_args.json')\n",
    "args = argparse.Namespace(**args)\n",
    "env_vars = load_json('./debug_environ.json')\n",
    "set_environ(env_vars)"
   ]
  },
  {
   "cell_type": "code",
   "execution_count": 4,
   "metadata": {},
   "outputs": [],
   "source": [
    "batch_size = 12"
   ]
  },
  {
   "cell_type": "code",
   "execution_count": 5,
   "metadata": {},
   "outputs": [
    {
     "name": "stdout",
     "output_type": "stream",
     "text": [
      "Data has 99621832 tokens, 6064 vocab size.\n"
     ]
    }
   ],
   "source": [
    "dataset = EnWik8(datafile=data_path)\n",
    "dataloader = data.DataLoader(dataset, batch_size=batch_size, shuffle=False, num_workers=0, pin_memory=True, drop_last=True)\n",
    "args.vocab_size = dataset.vocab_size"
   ]
  },
  {
   "cell_type": "code",
   "execution_count": 6,
   "metadata": {},
   "outputs": [
    {
     "data": {
      "text/plain": [
       "(torch.Size([12, 512]), torch.Size([12, 512]))"
      ]
     },
     "execution_count": 6,
     "metadata": {},
     "output_type": "execute_result"
    }
   ],
   "source": [
    "batch = next(iter(dataloader))\n",
    "x, y = batch\n",
    "x.shape, y.shape"
   ]
  },
  {
   "cell_type": "code",
   "execution_count": 7,
   "metadata": {},
   "outputs": [
    {
     "data": {
      "text/plain": [
       "tensor([[16,  1,  1,  ...,  2, 84, 71],\n",
       "        [ 2,  2,  2,  ..., 23, 25, 23],\n",
       "        [20, 30, 17,  ..., 90, 67, 80],\n",
       "        ...,\n",
       "        [75, 80, 72,  ..., 67, 86,  2],\n",
       "        [74, 86, 86,  ..., 53, 82, 67],\n",
       "        [74, 67, 84,  ..., 86, 74, 71]])"
      ]
     },
     "execution_count": 7,
     "metadata": {},
     "output_type": "execute_result"
    }
   ],
   "source": [
    "x"
   ]
  },
  {
   "attachments": {},
   "cell_type": "markdown",
   "metadata": {},
   "source": [
    "### Reimplementation of RWKV-v4neo model"
   ]
  },
  {
   "cell_type": "code",
   "execution_count": 8,
   "metadata": {},
   "outputs": [],
   "source": [
    "from rwkv_model import RWKV, RWKVConfig\n",
    "from wkv_kernel import WKVConfig"
   ]
  },
  {
   "cell_type": "code",
   "execution_count": 9,
   "metadata": {},
   "outputs": [],
   "source": [
    "config = RWKVConfig(embedding_dim=512,\n",
    "                    attention_dim=512,\n",
    "                    ffn_dim=2048,\n",
    "                    num_blocks=6,\n",
    "                    vocab_size=dataset.vocab_size, #6064\n",
    "                    context_len=512, \n",
    "                    wkv_config=WKVConfig(float_mode='fp16'))\n"
   ]
  },
  {
   "cell_type": "code",
   "execution_count": 10,
   "metadata": {},
   "outputs": [
    {
     "name": "stderr",
     "output_type": "stream",
     "text": [
      "Using /system/user/beck/.cache/torch_extensions/py310_cu117 as PyTorch extensions root...\n",
      "Detected CUDA files, patching ldflags\n",
      "Emitting ninja build file /system/user/beck/.cache/torch_extensions/py310_cu117/wkv/build.ninja...\n",
      "Building extension module wkv...\n",
      "Allowing ninja to set a default number of workers... (overridable by setting the environment variable MAX_JOBS=N)\n",
      "Loading extension module wkv...\n"
     ]
    },
    {
     "name": "stdout",
     "output_type": "stream",
     "text": [
      "ninja: no work to do.\n"
     ]
    }
   ],
   "source": [
    "mymodel = RWKV(config).to(device='cuda')\n"
   ]
  },
  {
   "cell_type": "code",
   "execution_count": 11,
   "metadata": {},
   "outputs": [],
   "source": [
    "x = x.to(device='cuda')\n",
    "out = mymodel(x)"
   ]
  },
  {
   "cell_type": "code",
   "execution_count": 12,
   "metadata": {},
   "outputs": [
    {
     "data": {
      "text/plain": [
       "torch.Size([12, 512, 6064])"
      ]
     },
     "execution_count": 12,
     "metadata": {},
     "output_type": "execute_result"
    }
   ],
   "source": [
    "out.shape"
   ]
  },
  {
   "cell_type": "code",
   "execution_count": 13,
   "metadata": {},
   "outputs": [
    {
     "data": {
      "text/plain": [
       "tensor([[[-3.3081e-01,  1.5812e-02,  4.8547e-01,  ...,  3.3276e-01,\n",
       "           6.0093e-01,  6.1640e-01],\n",
       "         [-3.6077e-02, -3.7648e-01, -1.8614e-01,  ...,  1.5427e-01,\n",
       "          -1.2737e-02, -6.0445e-02],\n",
       "         [ 4.3696e-02, -3.7088e-01, -2.7434e-01,  ..., -1.6589e-01,\n",
       "          -2.8171e-02, -1.0600e-01],\n",
       "         ...,\n",
       "         [-5.0846e-01,  1.7093e-01, -4.8930e-01,  ...,  1.5211e-01,\n",
       "           1.9901e-01, -6.4936e-01],\n",
       "         [ 4.6809e-01,  1.6932e-01, -4.8769e-02,  ..., -6.1926e-01,\n",
       "           5.0520e-01, -3.7347e-01],\n",
       "         [-5.9225e-01, -2.5691e-02,  1.4321e-01,  ..., -3.3670e-01,\n",
       "           6.9848e-01, -7.9805e-01]],\n",
       "\n",
       "        [[-1.3204e-01,  3.9131e-01, -5.6200e-01,  ...,  2.1152e-01,\n",
       "           3.2002e-01, -1.0070e+00],\n",
       "         [-2.3457e-01,  4.8656e-01, -5.9861e-01,  ...,  3.2951e-01,\n",
       "           4.6088e-01, -9.7160e-01],\n",
       "         [-2.5510e-01,  3.9911e-01, -5.5693e-01,  ...,  2.7416e-01,\n",
       "           4.8164e-01, -1.0298e+00],\n",
       "         ...,\n",
       "         [-2.5298e-01, -1.4700e-01,  3.2941e-01,  ..., -1.6953e-01,\n",
       "          -5.2634e-01,  3.0122e-01],\n",
       "         [ 1.6030e-01,  1.0865e-01, -5.0623e-01,  ...,  3.3908e-01,\n",
       "           3.5284e-01, -6.8790e-01],\n",
       "         [-2.3476e-01, -2.2684e-01,  3.4844e-01,  ..., -1.7589e-01,\n",
       "          -3.5206e-01,  4.3971e-01]],\n",
       "\n",
       "        [[-7.0829e-01,  1.0736e+00,  1.3249e+00,  ...,  1.0595e-01,\n",
       "           2.2395e-01, -6.3841e-01],\n",
       "         [ 6.7735e-02,  1.4821e-01, -1.2335e-01,  ..., -3.0795e-01,\n",
       "           4.3325e-01, -7.0828e-02],\n",
       "         [-3.2227e-01,  3.6544e-01, -7.6071e-03,  ...,  1.8120e-01,\n",
       "           1.0040e-01,  6.4895e-01],\n",
       "         ...,\n",
       "         [ 6.4777e-02, -4.4527e-01,  8.1199e-02,  ..., -3.4884e-01,\n",
       "           3.3844e-01, -1.1147e+00],\n",
       "         [ 2.0601e-01, -1.7674e-02, -9.5987e-01,  ...,  1.9346e-04,\n",
       "           5.1394e-01,  5.0653e-03],\n",
       "         [-1.3881e+00,  2.4175e-01, -9.7931e-02,  ..., -5.4108e-01,\n",
       "          -4.3130e-01, -3.8098e-01]],\n",
       "\n",
       "        ...,\n",
       "\n",
       "        [[-1.6876e-02,  4.5571e-01, -9.4709e-01,  ...,  1.3907e+00,\n",
       "           1.3955e+00, -5.8047e-01],\n",
       "         [-1.0557e+00,  3.1863e-01, -1.4017e-01,  ..., -2.3747e-01,\n",
       "          -4.2742e-01, -3.8582e-01],\n",
       "         [-4.6533e-01, -7.5380e-01, -6.5744e-01,  ...,  9.3945e-01,\n",
       "           9.9865e-01, -4.7793e-01],\n",
       "         ...,\n",
       "         [ 1.1620e-01,  2.7814e-01, -7.2359e-01,  ..., -1.1735e-01,\n",
       "           5.6546e-01, -1.2960e-01],\n",
       "         [ 4.8551e-01, -9.7962e-01, -4.6203e-01,  ...,  3.6591e-01,\n",
       "           2.2631e-01,  1.2352e+00],\n",
       "         [-4.0158e-01,  2.3360e-01, -6.5351e-01,  ...,  8.9283e-02,\n",
       "           3.2791e-01, -6.0675e-01]],\n",
       "\n",
       "        [[ 8.5187e-01, -2.4609e-01,  8.8629e-01,  ..., -7.8078e-01,\n",
       "           6.6297e-01, -5.6260e-01],\n",
       "         [ 5.8606e-01, -7.5048e-01, -4.6333e-01,  ...,  4.1757e-01,\n",
       "           1.5995e-01,  1.0841e+00],\n",
       "         [ 4.1250e-01, -6.8535e-01, -5.5933e-01,  ...,  3.7971e-01,\n",
       "          -3.2569e-02,  1.4057e+00],\n",
       "         ...,\n",
       "         [ 1.6527e-01, -4.3970e-01,  5.5717e-01,  ...,  4.0935e-01,\n",
       "           2.8057e-01,  2.4147e-01],\n",
       "         [-7.1560e-01,  4.1925e-01,  4.5528e-01,  ...,  8.3679e-01,\n",
       "          -4.7859e-02,  1.2154e-01],\n",
       "         [ 1.9953e-02,  3.0309e-02, -8.8689e-01,  ..., -5.7612e-02,\n",
       "           3.3885e-01,  4.1491e-02]],\n",
       "\n",
       "        [[ 8.5187e-01, -2.4609e-01,  8.8629e-01,  ..., -7.8078e-01,\n",
       "           6.6297e-01, -5.6260e-01],\n",
       "         [ 3.0652e-01,  8.6865e-02, -8.3848e-01,  ..., -1.1144e-01,\n",
       "           6.6757e-01, -4.0708e-01],\n",
       "         [ 6.2442e-01,  1.6248e-01, -2.2867e-01,  ..., -9.3089e-01,\n",
       "           7.3733e-01, -1.3390e-01],\n",
       "         ...,\n",
       "         [ 6.2363e-01, -7.1852e-01, -5.5339e-01,  ...,  5.7377e-01,\n",
       "           1.3834e-02,  1.2061e+00],\n",
       "         [ 5.3267e-01, -1.0922e-01,  8.0754e-01,  ..., -7.3545e-01,\n",
       "           5.5622e-01, -4.6680e-01],\n",
       "         [-5.7451e-01,  2.0323e-01,  1.6305e-01,  ..., -2.3034e-01,\n",
       "           9.9917e-01, -8.9976e-01]]], device='cuda:0',\n",
       "       grad_fn=<UnsafeViewBackward0>)"
      ]
     },
     "execution_count": 13,
     "metadata": {},
     "output_type": "execute_result"
    }
   ],
   "source": [
    "out"
   ]
  },
  {
   "cell_type": "code",
   "execution_count": 14,
   "metadata": {},
   "outputs": [
    {
     "data": {
      "text/plain": [
       "tensor([-0.3308,  0.0158,  0.4855,  ...,  0.3328,  0.6009,  0.6164],\n",
       "       device='cuda:0', grad_fn=<SliceBackward0>)"
      ]
     },
     "execution_count": 14,
     "metadata": {},
     "output_type": "execute_result"
    }
   ],
   "source": [
    "out[0,0,:]"
   ]
  },
  {
   "cell_type": "code",
   "execution_count": null,
   "metadata": {},
   "outputs": [],
   "source": []
  }
 ],
 "metadata": {
  "kernelspec": {
   "display_name": "rwkv",
   "language": "python",
   "name": "python3"
  },
  "language_info": {
   "codemirror_mode": {
    "name": "ipython",
    "version": 3
   },
   "file_extension": ".py",
   "mimetype": "text/x-python",
   "name": "python",
   "nbconvert_exporter": "python",
   "pygments_lexer": "ipython3",
   "version": "3.10.10"
  },
  "orig_nbformat": 4
 },
 "nbformat": 4,
 "nbformat_minor": 2
}
