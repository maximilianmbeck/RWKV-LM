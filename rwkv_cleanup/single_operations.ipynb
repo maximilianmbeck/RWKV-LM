{
 "cells": [
  {
   "cell_type": "code",
   "execution_count": 1,
   "metadata": {},
   "outputs": [
    {
     "name": "stderr",
     "output_type": "stream",
     "text": [
      "/system/apps/userenv/beck/rwkv/lib/python3.10/site-packages/tqdm/auto.py:21: TqdmWarning: IProgress not found. Please update jupyter and ipywidgets. See https://ipywidgets.readthedocs.io/en/stable/user_install.html\n",
      "  from .autonotebook import tqdm as notebook_tqdm\n"
     ]
    }
   ],
   "source": [
    "%load_ext autoreload\n",
    "%autoreload 2\n",
    "import torch\n",
    "from torch import nn\n"
   ]
  },
  {
   "attachments": {},
   "cell_type": "markdown",
   "metadata": {},
   "source": [
    "## Understand single operations inside RWKV model"
   ]
  },
  {
   "attachments": {},
   "cell_type": "markdown",
   "metadata": {},
   "source": [
    "### Time shift operation"
   ]
  },
  {
   "cell_type": "code",
   "execution_count": 2,
   "metadata": {},
   "outputs": [],
   "source": [
    "zp = nn.ZeroPad2d((0, 0, 1, -1))"
   ]
  },
  {
   "cell_type": "code",
   "execution_count": 3,
   "metadata": {},
   "outputs": [
    {
     "data": {
      "text/plain": [
       "tensor([[[ 0.8484,  0.1798, -0.1841, -1.8499,  0.7515],\n",
       "         [-1.1345, -0.7117, -0.3316,  0.4247,  1.4442],\n",
       "         [ 1.3842, -1.8837,  0.6110,  0.5543,  1.4463],\n",
       "         [ 2.8151,  0.7140, -0.9191, -1.0342, -0.6735],\n",
       "         [ 0.1051,  1.6497, -1.1098,  0.6712,  0.4947],\n",
       "         [ 1.2563, -0.6324, -0.5824, -0.1180, -1.8749],\n",
       "         [ 1.3625, -0.0541, -0.2725,  3.1962, -1.4604],\n",
       "         [-1.7580,  1.2531,  1.4149, -0.0412, -0.9744],\n",
       "         [ 0.1492, -1.0672, -0.0570, -0.9744,  0.0480],\n",
       "         [-0.9248,  0.4874, -0.5438, -1.4635,  0.5503]],\n",
       "\n",
       "        [[-0.2822, -0.5515,  0.8484, -0.7601, -2.3858],\n",
       "         [ 1.1154,  0.9619, -1.0014, -0.0994, -0.4242],\n",
       "         [ 0.1656,  0.0472, -0.2683,  0.4059, -1.6349],\n",
       "         [-0.1632, -0.0186,  2.0938,  0.0820, -0.2877],\n",
       "         [ 0.6147,  0.0863, -0.6618,  1.0508, -1.2894],\n",
       "         [ 2.3419, -0.2682, -0.7621,  0.0916,  0.5527],\n",
       "         [ 0.3534, -0.5199, -1.8081,  1.0652,  1.1395],\n",
       "         [ 1.3066,  0.8099,  0.8896,  0.3350, -1.1584],\n",
       "         [-1.7220, -0.3467, -0.8882, -0.2874,  0.9699],\n",
       "         [-1.4880,  1.1606,  1.1193,  0.4604, -1.2587]]])"
      ]
     },
     "execution_count": 3,
     "metadata": {},
     "output_type": "execute_result"
    }
   ],
   "source": [
    "t = torch.randn(2, 10, 5)\n",
    "t"
   ]
  },
  {
   "cell_type": "code",
   "execution_count": 4,
   "metadata": {},
   "outputs": [
    {
     "data": {
      "text/plain": [
       "torch.Size([2, 10, 5])"
      ]
     },
     "execution_count": 4,
     "metadata": {},
     "output_type": "execute_result"
    }
   ],
   "source": [
    "zp(t).shape"
   ]
  },
  {
   "cell_type": "code",
   "execution_count": 5,
   "metadata": {},
   "outputs": [
    {
     "data": {
      "text/plain": [
       "tensor([[[ 0.0000,  0.0000,  0.0000,  0.0000,  0.0000],\n",
       "         [ 0.8484,  0.1798, -0.1841, -1.8499,  0.7515],\n",
       "         [-1.1345, -0.7117, -0.3316,  0.4247,  1.4442],\n",
       "         [ 1.3842, -1.8837,  0.6110,  0.5543,  1.4463],\n",
       "         [ 2.8151,  0.7140, -0.9191, -1.0342, -0.6735],\n",
       "         [ 0.1051,  1.6497, -1.1098,  0.6712,  0.4947],\n",
       "         [ 1.2563, -0.6324, -0.5824, -0.1180, -1.8749],\n",
       "         [ 1.3625, -0.0541, -0.2725,  3.1962, -1.4604],\n",
       "         [-1.7580,  1.2531,  1.4149, -0.0412, -0.9744],\n",
       "         [ 0.1492, -1.0672, -0.0570, -0.9744,  0.0480]],\n",
       "\n",
       "        [[ 0.0000,  0.0000,  0.0000,  0.0000,  0.0000],\n",
       "         [-0.2822, -0.5515,  0.8484, -0.7601, -2.3858],\n",
       "         [ 1.1154,  0.9619, -1.0014, -0.0994, -0.4242],\n",
       "         [ 0.1656,  0.0472, -0.2683,  0.4059, -1.6349],\n",
       "         [-0.1632, -0.0186,  2.0938,  0.0820, -0.2877],\n",
       "         [ 0.6147,  0.0863, -0.6618,  1.0508, -1.2894],\n",
       "         [ 2.3419, -0.2682, -0.7621,  0.0916,  0.5527],\n",
       "         [ 0.3534, -0.5199, -1.8081,  1.0652,  1.1395],\n",
       "         [ 1.3066,  0.8099,  0.8896,  0.3350, -1.1584],\n",
       "         [-1.7220, -0.3467, -0.8882, -0.2874,  0.9699]]])"
      ]
     },
     "execution_count": 5,
     "metadata": {},
     "output_type": "execute_result"
    }
   ],
   "source": [
    "zp(t)"
   ]
  },
  {
   "cell_type": "code",
   "execution_count": 6,
   "metadata": {},
   "outputs": [
    {
     "data": {
      "text/plain": [
       "tensor([ 0.8484,  0.1798, -0.1841, -1.8499,  0.7515])"
      ]
     },
     "execution_count": 6,
     "metadata": {},
     "output_type": "execute_result"
    }
   ],
   "source": [
    "zp(t)[0, 1, :]"
   ]
  },
  {
   "cell_type": "code",
   "execution_count": 7,
   "metadata": {},
   "outputs": [
    {
     "data": {
      "text/plain": [
       "tensor([ 0.8484,  0.1798, -0.1841, -1.8499,  0.7515])"
      ]
     },
     "execution_count": 7,
     "metadata": {},
     "output_type": "execute_result"
    }
   ],
   "source": [
    "t[0, 0, :]"
   ]
  },
  {
   "attachments": {},
   "cell_type": "markdown",
   "metadata": {},
   "source": [
    "### Init of time_first "
   ]
  },
  {
   "cell_type": "code",
   "execution_count": 8,
   "metadata": {},
   "outputs": [],
   "source": [
    "attention_dim = 10\n",
    "zigzag = torch.tensor([(i + 1) % 3 - 1\n",
    "                       for i in range(attention_dim)]) * 0.5"
   ]
  },
  {
   "cell_type": "code",
   "execution_count": 9,
   "metadata": {},
   "outputs": [
    {
     "data": {
      "text/plain": [
       "tensor([ 0.0000,  0.5000, -0.5000,  0.0000,  0.5000, -0.5000,  0.0000,  0.5000,\n",
       "        -0.5000,  0.0000])"
      ]
     },
     "execution_count": 9,
     "metadata": {},
     "output_type": "execute_result"
    }
   ],
   "source": [
    "zigzag"
   ]
  },
  {
   "cell_type": "code",
   "execution_count": null,
   "metadata": {},
   "outputs": [],
   "source": []
  }
 ],
 "metadata": {
  "kernelspec": {
   "display_name": "rwkv",
   "language": "python",
   "name": "python3"
  },
  "language_info": {
   "codemirror_mode": {
    "name": "ipython",
    "version": 3
   },
   "file_extension": ".py",
   "mimetype": "text/x-python",
   "name": "python",
   "nbconvert_exporter": "python",
   "pygments_lexer": "ipython3",
   "version": "3.10.10"
  },
  "orig_nbformat": 4
 },
 "nbformat": 4,
 "nbformat_minor": 2
}
