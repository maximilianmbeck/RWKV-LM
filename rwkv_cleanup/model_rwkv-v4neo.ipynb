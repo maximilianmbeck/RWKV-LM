{
 "cells": [
  {
   "cell_type": "code",
   "execution_count": 1,
   "metadata": {},
   "outputs": [
    {
     "name": "stderr",
     "output_type": "stream",
     "text": [
      "/system/apps/userenv/beck/rwkv/lib/python3.10/site-packages/tqdm/auto.py:21: TqdmWarning: IProgress not found. Please update jupyter and ipywidgets. See https://ipywidgets.readthedocs.io/en/stable/user_install.html\n",
      "  from .autonotebook import tqdm as notebook_tqdm\n",
      "Global seed set to 42\n"
     ]
    },
    {
     "data": {
      "text/plain": [
       "42"
      ]
     },
     "execution_count": 1,
     "metadata": {},
     "output_type": "execute_result"
    }
   ],
   "source": [
    "# %load_ext autorelaod\n",
    "# %autoreload 2\n",
    "\n",
    "import sys\n",
    "sys.path.append('./../RWKV-v4neo/src')\n",
    "import torch \n",
    "from torch.utils import data\n",
    "from enwik8_dataset import EnWik8\n",
    "import json\n",
    "import argparse\n",
    "import os\n",
    "from torch import nn\n",
    "from lightning import seed_everything\n",
    "seed_everything(42)"
   ]
  },
  {
   "cell_type": "code",
   "execution_count": 2,
   "metadata": {},
   "outputs": [],
   "source": [
    "def load_json(path):\n",
    "    with open(path, 'r') as f:\n",
    "        return json.load(f)\n",
    "def set_environ(env_vars: dict):\n",
    "    for k, v in env_vars.items():\n",
    "        os.environ[k] = v"
   ]
  },
  {
   "cell_type": "code",
   "execution_count": 3,
   "metadata": {},
   "outputs": [],
   "source": [
    "data_path = '/system/user/beck/pwbeck/projects/rwkv/RWKV-LM/data/enwik8'\n",
    "args = load_json('./debug_args.json')\n",
    "args = argparse.Namespace(**args)\n",
    "env_vars = load_json('./debug_environ.json')\n",
    "set_environ(env_vars)"
   ]
  },
  {
   "cell_type": "code",
   "execution_count": 4,
   "metadata": {},
   "outputs": [],
   "source": [
    "batch_size = 12"
   ]
  },
  {
   "cell_type": "code",
   "execution_count": 5,
   "metadata": {},
   "outputs": [
    {
     "name": "stdout",
     "output_type": "stream",
     "text": [
      "Data has 99621832 tokens, 6064 vocab size.\n"
     ]
    }
   ],
   "source": [
    "dataset = EnWik8(datafile=data_path)\n",
    "dataloader = data.DataLoader(dataset, batch_size=batch_size, shuffle=False, num_workers=0, pin_memory=True, drop_last=True)\n",
    "args.vocab_size = dataset.vocab_size"
   ]
  },
  {
   "cell_type": "code",
   "execution_count": 6,
   "metadata": {},
   "outputs": [
    {
     "data": {
      "text/plain": [
       "(torch.Size([12, 512]), torch.Size([12, 512]))"
      ]
     },
     "execution_count": 6,
     "metadata": {},
     "output_type": "execute_result"
    }
   ],
   "source": [
    "batch = next(iter(dataloader))\n",
    "x, y = batch\n",
    "x.shape, y.shape"
   ]
  },
  {
   "cell_type": "code",
   "execution_count": 7,
   "metadata": {},
   "outputs": [
    {
     "data": {
      "text/plain": [
       "tensor([[16,  1,  1,  ...,  2, 84, 71],\n",
       "        [ 2,  2,  2,  ..., 23, 25, 23],\n",
       "        [20, 30, 17,  ..., 90, 67, 80],\n",
       "        ...,\n",
       "        [75, 80, 72,  ..., 67, 86,  2],\n",
       "        [74, 86, 86,  ..., 53, 82, 67],\n",
       "        [74, 67, 84,  ..., 86, 74, 71]])"
      ]
     },
     "execution_count": 7,
     "metadata": {},
     "output_type": "execute_result"
    }
   ],
   "source": [
    "x"
   ]
  },
  {
   "attachments": {},
   "cell_type": "markdown",
   "metadata": {},
   "source": [
    "### RWKV-v4neo model"
   ]
  },
  {
   "cell_type": "code",
   "execution_count": 8,
   "metadata": {},
   "outputs": [
    {
     "name": "stdout",
     "output_type": "stream",
     "text": [
      "RWKV_MY_TESTING \n"
     ]
    },
    {
     "name": "stderr",
     "output_type": "stream",
     "text": [
      "Using /system/user/beck/.cache/torch_extensions/py310_cu117 as PyTorch extensions root...\n",
      "Detected CUDA files, patching ldflags\n",
      "Emitting ninja build file /system/user/beck/.cache/torch_extensions/py310_cu117/wkv_512/build.ninja...\n",
      "Building extension module wkv_512...\n",
      "Allowing ninja to set a default number of workers... (overridable by setting the environment variable MAX_JOBS=N)\n"
     ]
    },
    {
     "name": "stdout",
     "output_type": "stream",
     "text": [
      "ninja: no work to do.\n"
     ]
    },
    {
     "name": "stderr",
     "output_type": "stream",
     "text": [
      "Loading extension module wkv_512...\n"
     ]
    }
   ],
   "source": [
    "from model import RWKV, Block, RWKV_ChannelMix, RWKV_TimeMix\n",
    "model = RWKV(args)"
   ]
  },
  {
   "cell_type": "code",
   "execution_count": 9,
   "metadata": {},
   "outputs": [],
   "source": [
    "output = model(x)"
   ]
  },
  {
   "cell_type": "code",
   "execution_count": 10,
   "metadata": {},
   "outputs": [
    {
     "data": {
      "text/plain": [
       "torch.Size([12, 512, 6064])"
      ]
     },
     "execution_count": 10,
     "metadata": {},
     "output_type": "execute_result"
    }
   ],
   "source": [
    "output.shape"
   ]
  },
  {
   "cell_type": "code",
   "execution_count": 11,
   "metadata": {},
   "outputs": [
    {
     "data": {
      "text/plain": [
       "tensor([[[-0.2103, -0.0397,  1.0679,  ...,  0.4574,  0.4023,  0.7730],\n",
       "         [-0.0186, -0.4040,  0.1959,  ...,  0.3247, -0.1660,  0.1206],\n",
       "         [ 0.1313, -0.1927,  0.0643,  ...,  0.2014, -0.0028, -0.0101],\n",
       "         ...,\n",
       "         [-0.1995,  0.3153, -0.5761,  ...,  0.2511,  0.2075, -0.6945],\n",
       "         [ 0.5926,  0.1980, -0.1112,  ..., -0.5263,  0.4925, -0.1763],\n",
       "         [-0.3525,  0.1504,  0.0842,  ..., -0.2548,  0.8232, -0.7318]],\n",
       "\n",
       "        [[-0.2065,  0.3040, -0.5562,  ...,  0.3792,  0.2712, -0.6763],\n",
       "         [-0.2807,  0.4576, -0.5695,  ...,  0.4815,  0.4311, -0.6347],\n",
       "         [-0.2748,  0.4582, -0.5705,  ...,  0.4939,  0.4313, -0.6318],\n",
       "         ...,\n",
       "         [-0.1225, -0.1315,  0.3247,  ..., -0.2733, -0.6395,  0.6690],\n",
       "         [ 0.1875,  0.1542, -0.5463,  ...,  0.2903,  0.0968, -0.4922],\n",
       "         [-0.1231, -0.1379,  0.3264,  ..., -0.2627, -0.6288,  0.6606]],\n",
       "\n",
       "        [[-0.4080,  0.6201,  1.3100,  ..., -0.0469,  0.3698, -0.5439],\n",
       "         [ 0.2462, -0.1861, -0.1573,  ..., -0.4217,  0.4747, -0.0085],\n",
       "         [-0.3340,  0.1034, -0.0427,  ...,  0.2465,  0.0597,  0.7733],\n",
       "         ...,\n",
       "         [ 0.2055, -0.2476,  0.0270,  ..., -0.5069,  0.1170, -1.0205],\n",
       "         [ 0.2723,  0.0753, -0.9699,  ...,  0.0219,  0.4150, -0.0208],\n",
       "         [-1.3973,  0.4132, -0.0371,  ..., -0.3328, -0.6528, -0.2409]],\n",
       "\n",
       "        ...,\n",
       "\n",
       "        [[-0.2072,  0.5608, -1.1166,  ...,  1.2486,  1.2673, -0.5501],\n",
       "         [-1.3198,  0.4966, -0.1819,  ..., -0.3186, -0.7141, -0.3136],\n",
       "         [-0.4580, -0.5873, -0.5278,  ...,  0.8932,  0.8231, -0.5426],\n",
       "         ...,\n",
       "         [ 0.1092,  0.1885, -0.9366,  ...,  0.0733,  0.4539, -0.0512],\n",
       "         [ 0.5994, -0.7581, -0.4572,  ...,  0.6704,  0.1285,  1.3188],\n",
       "         [-0.1670,  0.2626, -0.5349,  ...,  0.3560,  0.2896, -0.5997]],\n",
       "\n",
       "        [[ 0.7370, -0.1335,  0.9167,  ..., -0.5962,  0.5385, -0.3203],\n",
       "         [ 0.5980, -0.7128, -0.4582,  ...,  0.6536,  0.2210,  1.3812],\n",
       "         [ 0.8180, -0.7928, -0.3869,  ...,  0.5478,  0.1489,  1.4966],\n",
       "         ...,\n",
       "         [ 0.2422, -0.7097,  0.4128,  ...,  0.6022,  0.1750,  0.4174],\n",
       "         [-0.5843,  0.4452,  0.4900,  ...,  0.8362,  0.1120,  0.2209],\n",
       "         [ 0.0791,  0.1551, -0.9709,  ..., -0.0882,  0.3531, -0.0456]],\n",
       "\n",
       "        [[ 0.7370, -0.1335,  0.9167,  ..., -0.5962,  0.5385, -0.3203],\n",
       "         [ 0.1536,  0.1079, -0.8881,  ...,  0.1042,  0.5445, -0.2102],\n",
       "         [ 0.6604,  0.2396, -0.1255,  ..., -0.6783,  0.4082, -0.2422],\n",
       "         ...,\n",
       "         [ 0.6886, -0.7983, -0.5480,  ...,  0.7504,  0.1588,  1.5453],\n",
       "         [ 0.7412, -0.0670,  0.9318,  ..., -0.6519,  0.6561, -0.2554],\n",
       "         [-0.4109,  0.1978,  0.1654,  ..., -0.0779,  1.0165, -0.6756]]],\n",
       "       grad_fn=<UnsafeViewBackward0>)"
      ]
     },
     "execution_count": 11,
     "metadata": {},
     "output_type": "execute_result"
    }
   ],
   "source": [
    "output"
   ]
  },
  {
   "cell_type": "code",
   "execution_count": 12,
   "metadata": {},
   "outputs": [
    {
     "data": {
      "text/plain": [
       "tensor([-0.2103, -0.0397,  1.0679,  ...,  0.4574,  0.4023,  0.7730],\n",
       "       grad_fn=<SliceBackward0>)"
      ]
     },
     "execution_count": 12,
     "metadata": {},
     "output_type": "execute_result"
    }
   ],
   "source": [
    "output[0, 0, :]"
   ]
  },
  {
   "cell_type": "code",
   "execution_count": null,
   "metadata": {},
   "outputs": [],
   "source": []
  }
 ],
 "metadata": {
  "kernelspec": {
   "display_name": "rwkv",
   "language": "python",
   "name": "python3"
  },
  "language_info": {
   "codemirror_mode": {
    "name": "ipython",
    "version": 3
   },
   "file_extension": ".py",
   "mimetype": "text/x-python",
   "name": "python",
   "nbconvert_exporter": "python",
   "pygments_lexer": "ipython3",
   "version": "3.10.10"
  },
  "orig_nbformat": 4
 },
 "nbformat": 4,
 "nbformat_minor": 2
}
